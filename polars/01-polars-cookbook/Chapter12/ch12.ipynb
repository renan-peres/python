{
 "cells": [
  {
   "cell_type": "markdown",
   "metadata": {},
   "source": [
    "# Chapter 12: Testing and Debugging in Polars"
   ]
  },
  {
   "cell_type": "markdown",
   "metadata": {},
   "source": [
    "## Debugging chained operations"
   ]
  },
  {
   "cell_type": "markdown",
   "metadata": {},
   "source": [
    "### How it works..."
   ]
  },
  {
   "cell_type": "code",
   "execution_count": 23,
   "metadata": {},
   "outputs": [],
   "source": [
    "import polars as pl"
   ]
  },
  {
   "cell_type": "code",
   "execution_count": 24,
   "metadata": {},
   "outputs": [],
   "source": [
    "lf = pl.scan_csv('../data/pokemon.csv')"
   ]
  },
  {
   "cell_type": "code",
   "execution_count": 25,
   "metadata": {},
   "outputs": [
    {
     "data": {
      "text/html": [
       "<div><style>\n",
       ".dataframe > thead > tr,\n",
       ".dataframe > tbody > tr {\n",
       "  text-align: right;\n",
       "  white-space: pre-wrap;\n",
       "}\n",
       "</style>\n",
       "<small>shape: (5, 13)</small><table border=\"1\" class=\"dataframe\"><thead><tr><th>#</th><th>Name</th><th>Type 1</th><th>Type 2</th><th>Total</th><th>HP</th><th>&hellip;</th><th>Defense</th><th>Sp. Atk</th><th>Sp. Def</th><th>Speed</th><th>Generation</th><th>Legendary</th></tr><tr><td>i64</td><td>str</td><td>str</td><td>str</td><td>i64</td><td>i64</td><td>&hellip;</td><td>i64</td><td>i64</td><td>i64</td><td>i64</td><td>i64</td><td>bool</td></tr></thead><tbody><tr><td>1</td><td>&quot;Bulbasaur&quot;</td><td>&quot;Grass&quot;</td><td>&quot;Poison&quot;</td><td>318</td><td>45</td><td>&hellip;</td><td>49</td><td>65</td><td>65</td><td>45</td><td>1</td><td>false</td></tr><tr><td>2</td><td>&quot;Ivysaur&quot;</td><td>&quot;Grass&quot;</td><td>&quot;Poison&quot;</td><td>405</td><td>60</td><td>&hellip;</td><td>63</td><td>80</td><td>80</td><td>60</td><td>1</td><td>false</td></tr><tr><td>3</td><td>&quot;Venusaur&quot;</td><td>&quot;Grass&quot;</td><td>&quot;Poison&quot;</td><td>525</td><td>80</td><td>&hellip;</td><td>83</td><td>100</td><td>100</td><td>80</td><td>1</td><td>false</td></tr><tr><td>3</td><td>&quot;VenusaurMega V…</td><td>&quot;Grass&quot;</td><td>&quot;Poison&quot;</td><td>625</td><td>80</td><td>&hellip;</td><td>123</td><td>122</td><td>120</td><td>80</td><td>1</td><td>false</td></tr><tr><td>4</td><td>&quot;Charmander&quot;</td><td>&quot;Fire&quot;</td><td>null</td><td>309</td><td>39</td><td>&hellip;</td><td>43</td><td>60</td><td>50</td><td>65</td><td>1</td><td>false</td></tr></tbody></table></div>"
      ],
      "text/plain": [
       "shape: (5, 13)\n",
       "┌─────┬────────┬────────┬────────┬───────┬─────┬───┬───────┬───────┬───────┬───────┬───────┬───────┐\n",
       "│ #   ┆ Name   ┆ Type 1 ┆ Type 2 ┆ Total ┆ HP  ┆ … ┆ Defen ┆ Sp.   ┆ Sp.   ┆ Speed ┆ Gener ┆ Legen │\n",
       "│ --- ┆ ---    ┆ ---    ┆ ---    ┆ ---   ┆ --- ┆   ┆ se    ┆ Atk   ┆ Def   ┆ ---   ┆ ation ┆ dary  │\n",
       "│ i64 ┆ str    ┆ str    ┆ str    ┆ i64   ┆ i64 ┆   ┆ ---   ┆ ---   ┆ ---   ┆ i64   ┆ ---   ┆ ---   │\n",
       "│     ┆        ┆        ┆        ┆       ┆     ┆   ┆ i64   ┆ i64   ┆ i64   ┆       ┆ i64   ┆ bool  │\n",
       "╞═════╪════════╪════════╪════════╪═══════╪═════╪═══╪═══════╪═══════╪═══════╪═══════╪═══════╪═══════╡\n",
       "│ 1   ┆ Bulbas ┆ Grass  ┆ Poison ┆ 318   ┆ 45  ┆ … ┆ 49    ┆ 65    ┆ 65    ┆ 45    ┆ 1     ┆ false │\n",
       "│     ┆ aur    ┆        ┆        ┆       ┆     ┆   ┆       ┆       ┆       ┆       ┆       ┆       │\n",
       "│ 2   ┆ Ivysau ┆ Grass  ┆ Poison ┆ 405   ┆ 60  ┆ … ┆ 63    ┆ 80    ┆ 80    ┆ 60    ┆ 1     ┆ false │\n",
       "│     ┆ r      ┆        ┆        ┆       ┆     ┆   ┆       ┆       ┆       ┆       ┆       ┆       │\n",
       "│ 3   ┆ Venusa ┆ Grass  ┆ Poison ┆ 525   ┆ 80  ┆ … ┆ 83    ┆ 100   ┆ 100   ┆ 80    ┆ 1     ┆ false │\n",
       "│     ┆ ur     ┆        ┆        ┆       ┆     ┆   ┆       ┆       ┆       ┆       ┆       ┆       │\n",
       "│ 3   ┆ Venusa ┆ Grass  ┆ Poison ┆ 625   ┆ 80  ┆ … ┆ 123   ┆ 122   ┆ 120   ┆ 80    ┆ 1     ┆ false │\n",
       "│     ┆ urMega ┆        ┆        ┆       ┆     ┆   ┆       ┆       ┆       ┆       ┆       ┆       │\n",
       "│     ┆ Venusa ┆        ┆        ┆       ┆     ┆   ┆       ┆       ┆       ┆       ┆       ┆       │\n",
       "│     ┆ ur     ┆        ┆        ┆       ┆     ┆   ┆       ┆       ┆       ┆       ┆       ┆       │\n",
       "│ 4   ┆ Charma ┆ Fire   ┆ null   ┆ 309   ┆ 39  ┆ … ┆ 43    ┆ 60    ┆ 50    ┆ 65    ┆ 1     ┆ false │\n",
       "│     ┆ nder   ┆        ┆        ┆       ┆     ┆   ┆       ┆       ┆       ┆       ┆       ┆       │\n",
       "└─────┴────────┴────────┴────────┴───────┴─────┴───┴───────┴───────┴───────┴───────┴───────┴───────┘"
      ]
     },
     "execution_count": 25,
     "metadata": {},
     "output_type": "execute_result"
    }
   ],
   "source": [
    "lf.fetch(5)"
   ]
  },
  {
   "cell_type": "code",
   "execution_count": 26,
   "metadata": {},
   "outputs": [
    {
     "data": {
      "text/html": [
       "<div><style>\n",
       ".dataframe > thead > tr,\n",
       ".dataframe > tbody > tr {\n",
       "  text-align: right;\n",
       "  white-space: pre-wrap;\n",
       "}\n",
       "</style>\n",
       "<small>shape: (5, 8)</small><table border=\"1\" class=\"dataframe\"><thead><tr><th>Name</th><th>Total</th><th>Attack</th><th>Defense</th><th>Speed</th><th>Atk Rank</th><th>Def Rank</th><th>Spe Rank</th></tr><tr><td>str</td><td>i64</td><td>i64</td><td>i64</td><td>i64</td><td>u32</td><td>u32</td><td>u32</td></tr></thead><tbody><tr><td>&quot;Caterpie&quot;</td><td>195</td><td>30</td><td>35</td><td>45</td><td>5</td><td>6</td><td>10</td></tr><tr><td>&quot;Weedle&quot;</td><td>195</td><td>35</td><td>30</td><td>50</td><td>6</td><td>5</td><td>12</td></tr><tr><td>&quot;Magikarp&quot;</td><td>200</td><td>10</td><td>55</td><td>80</td><td>2</td><td>16</td><td>27</td></tr><tr><td>&quot;Kakuna&quot;</td><td>205</td><td>25</td><td>50</td><td>35</td><td>4</td><td>13</td><td>5</td></tr><tr><td>&quot;Metapod&quot;</td><td>205</td><td>20</td><td>55</td><td>30</td><td>3</td><td>16</td><td>4</td></tr></tbody></table></div>"
      ],
      "text/plain": [
       "shape: (5, 8)\n",
       "┌──────────┬───────┬────────┬─────────┬───────┬──────────┬──────────┬──────────┐\n",
       "│ Name     ┆ Total ┆ Attack ┆ Defense ┆ Speed ┆ Atk Rank ┆ Def Rank ┆ Spe Rank │\n",
       "│ ---      ┆ ---   ┆ ---    ┆ ---     ┆ ---   ┆ ---      ┆ ---      ┆ ---      │\n",
       "│ str      ┆ i64   ┆ i64    ┆ i64     ┆ i64   ┆ u32      ┆ u32      ┆ u32      │\n",
       "╞══════════╪═══════╪════════╪═════════╪═══════╪══════════╪══════════╪══════════╡\n",
       "│ Caterpie ┆ 195   ┆ 30     ┆ 35      ┆ 45    ┆ 5        ┆ 6        ┆ 10       │\n",
       "│ Weedle   ┆ 195   ┆ 35     ┆ 30      ┆ 50    ┆ 6        ┆ 5        ┆ 12       │\n",
       "│ Magikarp ┆ 200   ┆ 10     ┆ 55      ┆ 80    ┆ 2        ┆ 16       ┆ 27       │\n",
       "│ Kakuna   ┆ 205   ┆ 25     ┆ 50      ┆ 35    ┆ 4        ┆ 13       ┆ 5        │\n",
       "│ Metapod  ┆ 205   ┆ 20     ┆ 55      ┆ 30    ┆ 3        ┆ 16       ┆ 4        │\n",
       "└──────────┴───────┴────────┴─────────┴───────┴──────────┴──────────┴──────────┘"
      ]
     },
     "execution_count": 26,
     "metadata": {},
     "output_type": "execute_result"
    }
   ],
   "source": [
    "(\n",
    "    lf\n",
    "    .with_columns(\n",
    "        pl.col('Attack').rank(method='dense').alias('Atk Rank'),\n",
    "        pl.col('Defense').rank(method='dense').alias('Def Rank'),\n",
    "        pl.col('Speed').rank(method='dense').alias('Spe Rank'),\n",
    "    )\n",
    "    .select(\n",
    "        'Name',\n",
    "        'Total',\n",
    "        'Attack',\n",
    "        'Defense',\n",
    "        'Speed',\n",
    "        pl.col('^*Rank$')\n",
    "    )\n",
    "    .sort('Total')\n",
    "    .head()\n",
    "    .collect()\n",
    ")"
   ]
  },
  {
   "cell_type": "code",
   "execution_count": 27,
   "metadata": {},
   "outputs": [
    {
     "ename": "ColumnNotFoundError",
     "evalue": "Deffense\n\nError originated just after this operation:\n WITH_COLUMNS:\n [col(\"Attack\").rank().alias(\"Atk Rank\"), col(\"Defense\").rank().alias(\"Def Rank\"), col(\"Speed\").rank().alias(\"Spe Rank\")]\n\n    Csv SCAN ../data/pokemon.csv\n    PROJECT */13 COLUMNS\n\nLogicalPlan had already failed with the above error; after failure, 1 additional operation was attempted on the LazyFrame",
     "output_type": "error",
     "traceback": [
      "\u001b[0;31m---------------------------------------------------------------------------\u001b[0m",
      "\u001b[0;31mColumnNotFoundError\u001b[0m                       Traceback (most recent call last)",
      "Cell \u001b[0;32mIn[27], line 18\u001b[0m\n\u001b[1;32m      1\u001b[0m (\n\u001b[1;32m      2\u001b[0m     \u001b[43mlf\u001b[49m\n\u001b[1;32m      3\u001b[0m \u001b[43m    \u001b[49m\u001b[38;5;241;43m.\u001b[39;49m\u001b[43mwith_columns\u001b[49m\u001b[43m(\u001b[49m\n\u001b[1;32m      4\u001b[0m \u001b[43m        \u001b[49m\u001b[43mpl\u001b[49m\u001b[38;5;241;43m.\u001b[39;49m\u001b[43mcol\u001b[49m\u001b[43m(\u001b[49m\u001b[38;5;124;43m'\u001b[39;49m\u001b[38;5;124;43mAttack\u001b[39;49m\u001b[38;5;124;43m'\u001b[39;49m\u001b[43m)\u001b[49m\u001b[38;5;241;43m.\u001b[39;49m\u001b[43mrank\u001b[49m\u001b[43m(\u001b[49m\u001b[43mmethod\u001b[49m\u001b[38;5;241;43m=\u001b[39;49m\u001b[38;5;124;43m'\u001b[39;49m\u001b[38;5;124;43mdense\u001b[39;49m\u001b[38;5;124;43m'\u001b[39;49m\u001b[43m)\u001b[49m\u001b[38;5;241;43m.\u001b[39;49m\u001b[43malias\u001b[49m\u001b[43m(\u001b[49m\u001b[38;5;124;43m'\u001b[39;49m\u001b[38;5;124;43mAtk Rank\u001b[39;49m\u001b[38;5;124;43m'\u001b[39;49m\u001b[43m)\u001b[49m\u001b[43m,\u001b[49m\n\u001b[1;32m      5\u001b[0m \u001b[43m        \u001b[49m\u001b[43mpl\u001b[49m\u001b[38;5;241;43m.\u001b[39;49m\u001b[43mcol\u001b[49m\u001b[43m(\u001b[49m\u001b[38;5;124;43m'\u001b[39;49m\u001b[38;5;124;43mDefense\u001b[39;49m\u001b[38;5;124;43m'\u001b[39;49m\u001b[43m)\u001b[49m\u001b[38;5;241;43m.\u001b[39;49m\u001b[43mrank\u001b[49m\u001b[43m(\u001b[49m\u001b[43mmethod\u001b[49m\u001b[38;5;241;43m=\u001b[39;49m\u001b[38;5;124;43m'\u001b[39;49m\u001b[38;5;124;43mdense\u001b[39;49m\u001b[38;5;124;43m'\u001b[39;49m\u001b[43m)\u001b[49m\u001b[38;5;241;43m.\u001b[39;49m\u001b[43malias\u001b[49m\u001b[43m(\u001b[49m\u001b[38;5;124;43m'\u001b[39;49m\u001b[38;5;124;43mDef Rank\u001b[39;49m\u001b[38;5;124;43m'\u001b[39;49m\u001b[43m)\u001b[49m\u001b[43m,\u001b[49m\n\u001b[1;32m      6\u001b[0m \u001b[43m        \u001b[49m\u001b[43mpl\u001b[49m\u001b[38;5;241;43m.\u001b[39;49m\u001b[43mcol\u001b[49m\u001b[43m(\u001b[49m\u001b[38;5;124;43m'\u001b[39;49m\u001b[38;5;124;43mSpeed\u001b[39;49m\u001b[38;5;124;43m'\u001b[39;49m\u001b[43m)\u001b[49m\u001b[38;5;241;43m.\u001b[39;49m\u001b[43mrank\u001b[49m\u001b[43m(\u001b[49m\u001b[43mmethod\u001b[49m\u001b[38;5;241;43m=\u001b[39;49m\u001b[38;5;124;43m'\u001b[39;49m\u001b[38;5;124;43mdense\u001b[39;49m\u001b[38;5;124;43m'\u001b[39;49m\u001b[43m)\u001b[49m\u001b[38;5;241;43m.\u001b[39;49m\u001b[43malias\u001b[49m\u001b[43m(\u001b[49m\u001b[38;5;124;43m'\u001b[39;49m\u001b[38;5;124;43mSpe Rank\u001b[39;49m\u001b[38;5;124;43m'\u001b[39;49m\u001b[43m)\u001b[49m\u001b[43m,\u001b[49m\n\u001b[1;32m      7\u001b[0m \u001b[43m    \u001b[49m\u001b[43m)\u001b[49m\n\u001b[1;32m      8\u001b[0m \u001b[43m    \u001b[49m\u001b[38;5;241;43m.\u001b[39;49m\u001b[43mselect\u001b[49m\u001b[43m(\u001b[49m\n\u001b[1;32m      9\u001b[0m \u001b[43m        \u001b[49m\u001b[38;5;124;43m'\u001b[39;49m\u001b[38;5;124;43mName\u001b[39;49m\u001b[38;5;124;43m'\u001b[39;49m\u001b[43m,\u001b[49m\n\u001b[1;32m     10\u001b[0m \u001b[43m        \u001b[49m\u001b[38;5;124;43m'\u001b[39;49m\u001b[38;5;124;43mTotal\u001b[39;49m\u001b[38;5;124;43m'\u001b[39;49m\u001b[43m,\u001b[49m\n\u001b[1;32m     11\u001b[0m \u001b[43m        \u001b[49m\u001b[38;5;124;43m'\u001b[39;49m\u001b[38;5;124;43mAttack\u001b[39;49m\u001b[38;5;124;43m'\u001b[39;49m\u001b[43m,\u001b[49m\n\u001b[1;32m     12\u001b[0m \u001b[43m        \u001b[49m\u001b[38;5;124;43m'\u001b[39;49m\u001b[38;5;124;43mDeffense\u001b[39;49m\u001b[38;5;124;43m'\u001b[39;49m\u001b[43m,\u001b[49m\n\u001b[1;32m     13\u001b[0m \u001b[43m        \u001b[49m\u001b[38;5;124;43m'\u001b[39;49m\u001b[38;5;124;43mSpeed\u001b[39;49m\u001b[38;5;124;43m'\u001b[39;49m\u001b[43m,\u001b[49m\n\u001b[1;32m     14\u001b[0m \u001b[43m        \u001b[49m\u001b[43mpl\u001b[49m\u001b[38;5;241;43m.\u001b[39;49m\u001b[43mcol\u001b[49m\u001b[43m(\u001b[49m\u001b[38;5;124;43m'\u001b[39;49m\u001b[38;5;124;43m^*Rank$\u001b[39;49m\u001b[38;5;124;43m'\u001b[39;49m\u001b[43m)\u001b[49m\n\u001b[1;32m     15\u001b[0m \u001b[43m    \u001b[49m\u001b[43m)\u001b[49m\n\u001b[1;32m     16\u001b[0m \u001b[43m    \u001b[49m\u001b[38;5;241;43m.\u001b[39;49m\u001b[43msort\u001b[49m\u001b[43m(\u001b[49m\u001b[38;5;124;43m'\u001b[39;49m\u001b[38;5;124;43mTotal\u001b[39;49m\u001b[38;5;124;43m'\u001b[39;49m\u001b[43m)\u001b[49m\n\u001b[1;32m     17\u001b[0m \u001b[43m    \u001b[49m\u001b[38;5;241;43m.\u001b[39;49m\u001b[43mhead\u001b[49m\u001b[43m(\u001b[49m\u001b[43m)\u001b[49m\n\u001b[0;32m---> 18\u001b[0m \u001b[43m    \u001b[49m\u001b[38;5;241;43m.\u001b[39;49m\u001b[43mcollect\u001b[49m\u001b[43m(\u001b[49m\u001b[43m)\u001b[49m\n\u001b[1;32m     19\u001b[0m )\n",
      "File \u001b[0;32m~/Desktop/Polars-Cookbook/.venv/lib/python3.11/site-packages/polars/lazyframe/frame.py:1934\u001b[0m, in \u001b[0;36mLazyFrame.collect\u001b[0;34m(self, type_coercion, predicate_pushdown, projection_pushdown, simplify_expression, slice_pushdown, comm_subplan_elim, comm_subexpr_elim, no_optimization, streaming, background, _eager)\u001b[0m\n\u001b[1;32m   1931\u001b[0m \u001b[38;5;28;01mif\u001b[39;00m background:\n\u001b[1;32m   1932\u001b[0m     \u001b[38;5;28;01mreturn\u001b[39;00m InProcessQuery(ldf\u001b[38;5;241m.\u001b[39mcollect_concurrently())\n\u001b[0;32m-> 1934\u001b[0m \u001b[38;5;28;01mreturn\u001b[39;00m wrap_df(ldf\u001b[38;5;241m.\u001b[39mcollect())\n",
      "\u001b[0;31mColumnNotFoundError\u001b[0m: Deffense\n\nError originated just after this operation:\n WITH_COLUMNS:\n [col(\"Attack\").rank().alias(\"Atk Rank\"), col(\"Defense\").rank().alias(\"Def Rank\"), col(\"Speed\").rank().alias(\"Spe Rank\")]\n\n    Csv SCAN ../data/pokemon.csv\n    PROJECT */13 COLUMNS\n\nLogicalPlan had already failed with the above error; after failure, 1 additional operation was attempted on the LazyFrame"
     ]
    }
   ],
   "source": [
    "(\n",
    "    lf\n",
    "    .with_columns(\n",
    "        pl.col('Attack').rank(method='dense').alias('Atk Rank'),\n",
    "        pl.col('Defense').rank(method='dense').alias('Def Rank'),\n",
    "        pl.col('Speed').rank(method='dense').alias('Spe Rank'),\n",
    "    )\n",
    "    .select(\n",
    "        'Name',\n",
    "        'Total',\n",
    "        'Attack',\n",
    "        'Deffense',\n",
    "        'Speed',\n",
    "        pl.col('^*Rank$')\n",
    "    )\n",
    "    .sort('Total')\n",
    "    .head()\n",
    "    .collect()\n",
    ")"
   ]
  },
  {
   "cell_type": "code",
   "execution_count": 28,
   "metadata": {},
   "outputs": [
    {
     "data": {
      "text/html": [
       "<div><style>\n",
       ".dataframe > thead > tr,\n",
       ".dataframe > tbody > tr {\n",
       "  text-align: right;\n",
       "  white-space: pre-wrap;\n",
       "}\n",
       "</style>\n",
       "<small>shape: (5, 16)</small><table border=\"1\" class=\"dataframe\"><thead><tr><th>#</th><th>Name</th><th>Type 1</th><th>Type 2</th><th>Total</th><th>HP</th><th>&hellip;</th><th>Speed</th><th>Generation</th><th>Legendary</th><th>Atk Rank</th><th>Def Rank</th><th>Spe Rank</th></tr><tr><td>i64</td><td>str</td><td>str</td><td>str</td><td>i64</td><td>i64</td><td>&hellip;</td><td>i64</td><td>i64</td><td>bool</td><td>u32</td><td>u32</td><td>u32</td></tr></thead><tbody><tr><td>10</td><td>&quot;Caterpie&quot;</td><td>&quot;Bug&quot;</td><td>null</td><td>195</td><td>45</td><td>&hellip;</td><td>45</td><td>1</td><td>false</td><td>5</td><td>6</td><td>10</td></tr><tr><td>13</td><td>&quot;Weedle&quot;</td><td>&quot;Bug&quot;</td><td>&quot;Poison&quot;</td><td>195</td><td>40</td><td>&hellip;</td><td>50</td><td>1</td><td>false</td><td>6</td><td>5</td><td>12</td></tr><tr><td>129</td><td>&quot;Magikarp&quot;</td><td>&quot;Water&quot;</td><td>null</td><td>200</td><td>20</td><td>&hellip;</td><td>80</td><td>1</td><td>false</td><td>2</td><td>16</td><td>27</td></tr><tr><td>14</td><td>&quot;Kakuna&quot;</td><td>&quot;Bug&quot;</td><td>&quot;Poison&quot;</td><td>205</td><td>45</td><td>&hellip;</td><td>35</td><td>1</td><td>false</td><td>4</td><td>13</td><td>5</td></tr><tr><td>11</td><td>&quot;Metapod&quot;</td><td>&quot;Bug&quot;</td><td>null</td><td>205</td><td>50</td><td>&hellip;</td><td>30</td><td>1</td><td>false</td><td>3</td><td>16</td><td>4</td></tr></tbody></table></div>"
      ],
      "text/plain": [
       "shape: (5, 16)\n",
       "┌─────┬────────┬────────┬────────┬───────┬─────┬───┬───────┬───────┬───────┬───────┬───────┬───────┐\n",
       "│ #   ┆ Name   ┆ Type 1 ┆ Type 2 ┆ Total ┆ HP  ┆ … ┆ Speed ┆ Gener ┆ Legen ┆ Atk   ┆ Def   ┆ Spe   │\n",
       "│ --- ┆ ---    ┆ ---    ┆ ---    ┆ ---   ┆ --- ┆   ┆ ---   ┆ ation ┆ dary  ┆ Rank  ┆ Rank  ┆ Rank  │\n",
       "│ i64 ┆ str    ┆ str    ┆ str    ┆ i64   ┆ i64 ┆   ┆ i64   ┆ ---   ┆ ---   ┆ ---   ┆ ---   ┆ ---   │\n",
       "│     ┆        ┆        ┆        ┆       ┆     ┆   ┆       ┆ i64   ┆ bool  ┆ u32   ┆ u32   ┆ u32   │\n",
       "╞═════╪════════╪════════╪════════╪═══════╪═════╪═══╪═══════╪═══════╪═══════╪═══════╪═══════╪═══════╡\n",
       "│ 10  ┆ Caterp ┆ Bug    ┆ null   ┆ 195   ┆ 45  ┆ … ┆ 45    ┆ 1     ┆ false ┆ 5     ┆ 6     ┆ 10    │\n",
       "│     ┆ ie     ┆        ┆        ┆       ┆     ┆   ┆       ┆       ┆       ┆       ┆       ┆       │\n",
       "│ 13  ┆ Weedle ┆ Bug    ┆ Poison ┆ 195   ┆ 40  ┆ … ┆ 50    ┆ 1     ┆ false ┆ 6     ┆ 5     ┆ 12    │\n",
       "│ 129 ┆ Magika ┆ Water  ┆ null   ┆ 200   ┆ 20  ┆ … ┆ 80    ┆ 1     ┆ false ┆ 2     ┆ 16    ┆ 27    │\n",
       "│     ┆ rp     ┆        ┆        ┆       ┆     ┆   ┆       ┆       ┆       ┆       ┆       ┆       │\n",
       "│ 14  ┆ Kakuna ┆ Bug    ┆ Poison ┆ 205   ┆ 45  ┆ … ┆ 35    ┆ 1     ┆ false ┆ 4     ┆ 13    ┆ 5     │\n",
       "│ 11  ┆ Metapo ┆ Bug    ┆ null   ┆ 205   ┆ 50  ┆ … ┆ 30    ┆ 1     ┆ false ┆ 3     ┆ 16    ┆ 4     │\n",
       "│     ┆ d      ┆        ┆        ┆       ┆     ┆   ┆       ┆       ┆       ┆       ┆       ┆       │\n",
       "└─────┴────────┴────────┴────────┴───────┴─────┴───┴───────┴───────┴───────┴───────┴───────┴───────┘"
      ]
     },
     "execution_count": 28,
     "metadata": {},
     "output_type": "execute_result"
    }
   ],
   "source": [
    "(\n",
    "    lf\n",
    "    .with_columns(\n",
    "        pl.col('Attack').rank(method='dense').alias('Atk Rank'),\n",
    "        pl.col('Defense').rank(method='dense').alias('Def Rank'),\n",
    "        pl.col('Speed').rank(method='dense').alias('Spe Rank'),\n",
    "    )\n",
    "    # .select(\n",
    "    #     'Name',\n",
    "    #     'Total',\n",
    "    #     'Attack',\n",
    "    #     'Deffense',\n",
    "    #     'Speed',\n",
    "    #     pl.col('^*Rank$')\n",
    "    # )\n",
    "    .sort('Total')\n",
    "    .head()\n",
    "    .collect()\n",
    ")"
   ]
  },
  {
   "cell_type": "code",
   "execution_count": 29,
   "metadata": {},
   "outputs": [
    {
     "ename": "ColumnNotFoundError",
     "evalue": "Deffense\n\nError originated just after this operation:\nDF [\"#\", \"Name\", \"Type 1\", \"Type 2\"]; PROJECT */16 COLUMNS; SELECTION: \"None\"",
     "output_type": "error",
     "traceback": [
      "\u001b[0;31m---------------------------------------------------------------------------\u001b[0m",
      "\u001b[0;31mColumnNotFoundError\u001b[0m                       Traceback (most recent call last)",
      "Cell \u001b[0;32mIn[29], line 9\u001b[0m\n\u001b[1;32m      1\u001b[0m (\n\u001b[1;32m      2\u001b[0m     \u001b[43mlf\u001b[49m\n\u001b[1;32m      3\u001b[0m \u001b[43m    \u001b[49m\u001b[38;5;241;43m.\u001b[39;49m\u001b[43mcollect\u001b[49m\u001b[43m(\u001b[49m\u001b[43m)\u001b[49m\n\u001b[1;32m      4\u001b[0m \u001b[43m    \u001b[49m\u001b[38;5;241;43m.\u001b[39;49m\u001b[43mwith_columns\u001b[49m\u001b[43m(\u001b[49m\n\u001b[1;32m      5\u001b[0m \u001b[43m        \u001b[49m\u001b[43mpl\u001b[49m\u001b[38;5;241;43m.\u001b[39;49m\u001b[43mcol\u001b[49m\u001b[43m(\u001b[49m\u001b[38;5;124;43m'\u001b[39;49m\u001b[38;5;124;43mAttack\u001b[39;49m\u001b[38;5;124;43m'\u001b[39;49m\u001b[43m)\u001b[49m\u001b[38;5;241;43m.\u001b[39;49m\u001b[43mrank\u001b[49m\u001b[43m(\u001b[49m\u001b[43mmethod\u001b[49m\u001b[38;5;241;43m=\u001b[39;49m\u001b[38;5;124;43m'\u001b[39;49m\u001b[38;5;124;43mdense\u001b[39;49m\u001b[38;5;124;43m'\u001b[39;49m\u001b[43m)\u001b[49m\u001b[38;5;241;43m.\u001b[39;49m\u001b[43malias\u001b[49m\u001b[43m(\u001b[49m\u001b[38;5;124;43m'\u001b[39;49m\u001b[38;5;124;43mAtk Rank\u001b[39;49m\u001b[38;5;124;43m'\u001b[39;49m\u001b[43m)\u001b[49m\u001b[43m,\u001b[49m\n\u001b[1;32m      6\u001b[0m \u001b[43m        \u001b[49m\u001b[43mpl\u001b[49m\u001b[38;5;241;43m.\u001b[39;49m\u001b[43mcol\u001b[49m\u001b[43m(\u001b[49m\u001b[38;5;124;43m'\u001b[39;49m\u001b[38;5;124;43mDefense\u001b[39;49m\u001b[38;5;124;43m'\u001b[39;49m\u001b[43m)\u001b[49m\u001b[38;5;241;43m.\u001b[39;49m\u001b[43mrank\u001b[49m\u001b[43m(\u001b[49m\u001b[43mmethod\u001b[49m\u001b[38;5;241;43m=\u001b[39;49m\u001b[38;5;124;43m'\u001b[39;49m\u001b[38;5;124;43mdense\u001b[39;49m\u001b[38;5;124;43m'\u001b[39;49m\u001b[43m)\u001b[49m\u001b[38;5;241;43m.\u001b[39;49m\u001b[43malias\u001b[49m\u001b[43m(\u001b[49m\u001b[38;5;124;43m'\u001b[39;49m\u001b[38;5;124;43mDef Rank\u001b[39;49m\u001b[38;5;124;43m'\u001b[39;49m\u001b[43m)\u001b[49m\u001b[43m,\u001b[49m\n\u001b[1;32m      7\u001b[0m \u001b[43m        \u001b[49m\u001b[43mpl\u001b[49m\u001b[38;5;241;43m.\u001b[39;49m\u001b[43mcol\u001b[49m\u001b[43m(\u001b[49m\u001b[38;5;124;43m'\u001b[39;49m\u001b[38;5;124;43mSpeed\u001b[39;49m\u001b[38;5;124;43m'\u001b[39;49m\u001b[43m)\u001b[49m\u001b[38;5;241;43m.\u001b[39;49m\u001b[43mrank\u001b[49m\u001b[43m(\u001b[49m\u001b[43mmethod\u001b[49m\u001b[38;5;241;43m=\u001b[39;49m\u001b[38;5;124;43m'\u001b[39;49m\u001b[38;5;124;43mdense\u001b[39;49m\u001b[38;5;124;43m'\u001b[39;49m\u001b[43m)\u001b[49m\u001b[38;5;241;43m.\u001b[39;49m\u001b[43malias\u001b[49m\u001b[43m(\u001b[49m\u001b[38;5;124;43m'\u001b[39;49m\u001b[38;5;124;43mSpe Rank\u001b[39;49m\u001b[38;5;124;43m'\u001b[39;49m\u001b[43m)\u001b[49m\u001b[43m,\u001b[49m\n\u001b[1;32m      8\u001b[0m \u001b[43m    \u001b[49m\u001b[43m)\u001b[49m\n\u001b[0;32m----> 9\u001b[0m \u001b[43m    \u001b[49m\u001b[38;5;241;43m.\u001b[39;49m\u001b[43mselect\u001b[49m\u001b[43m(\u001b[49m\n\u001b[1;32m     10\u001b[0m \u001b[43m        \u001b[49m\u001b[38;5;124;43m'\u001b[39;49m\u001b[38;5;124;43mName\u001b[39;49m\u001b[38;5;124;43m'\u001b[39;49m\u001b[43m,\u001b[49m\n\u001b[1;32m     11\u001b[0m \u001b[43m        \u001b[49m\u001b[38;5;124;43m'\u001b[39;49m\u001b[38;5;124;43mTotal\u001b[39;49m\u001b[38;5;124;43m'\u001b[39;49m\u001b[43m,\u001b[49m\n\u001b[1;32m     12\u001b[0m \u001b[43m        \u001b[49m\u001b[38;5;124;43m'\u001b[39;49m\u001b[38;5;124;43mAttack\u001b[39;49m\u001b[38;5;124;43m'\u001b[39;49m\u001b[43m,\u001b[49m\n\u001b[1;32m     13\u001b[0m \u001b[43m        \u001b[49m\u001b[38;5;124;43m'\u001b[39;49m\u001b[38;5;124;43mDeffense\u001b[39;49m\u001b[38;5;124;43m'\u001b[39;49m\u001b[43m,\u001b[49m\n\u001b[1;32m     14\u001b[0m \u001b[43m        \u001b[49m\u001b[38;5;124;43m'\u001b[39;49m\u001b[38;5;124;43mSpeed\u001b[39;49m\u001b[38;5;124;43m'\u001b[39;49m\u001b[43m,\u001b[49m\n\u001b[1;32m     15\u001b[0m \u001b[43m        \u001b[49m\u001b[43mpl\u001b[49m\u001b[38;5;241;43m.\u001b[39;49m\u001b[43mcol\u001b[49m\u001b[43m(\u001b[49m\u001b[38;5;124;43m'\u001b[39;49m\u001b[38;5;124;43m^*Rank$\u001b[39;49m\u001b[38;5;124;43m'\u001b[39;49m\u001b[43m)\u001b[49m\n\u001b[1;32m     16\u001b[0m \u001b[43m    \u001b[49m\u001b[43m)\u001b[49m\n\u001b[1;32m     17\u001b[0m     \u001b[38;5;241m.\u001b[39msort(\u001b[38;5;124m'\u001b[39m\u001b[38;5;124mTotal\u001b[39m\u001b[38;5;124m'\u001b[39m)\n\u001b[1;32m     18\u001b[0m     \u001b[38;5;241m.\u001b[39mhead()\n\u001b[1;32m     19\u001b[0m )\n",
      "File \u001b[0;32m~/Desktop/Polars-Cookbook/.venv/lib/python3.11/site-packages/polars/dataframe/frame.py:8116\u001b[0m, in \u001b[0;36mDataFrame.select\u001b[0;34m(self, *exprs, **named_exprs)\u001b[0m\n\u001b[1;32m   8016\u001b[0m \u001b[38;5;28;01mdef\u001b[39;00m \u001b[38;5;21mselect\u001b[39m(\n\u001b[1;32m   8017\u001b[0m     \u001b[38;5;28mself\u001b[39m, \u001b[38;5;241m*\u001b[39mexprs: IntoExpr \u001b[38;5;241m|\u001b[39m Iterable[IntoExpr], \u001b[38;5;241m*\u001b[39m\u001b[38;5;241m*\u001b[39mnamed_exprs: IntoExpr\n\u001b[1;32m   8018\u001b[0m ) \u001b[38;5;241m-\u001b[39m\u001b[38;5;241m>\u001b[39m DataFrame:\n\u001b[1;32m   8019\u001b[0m \u001b[38;5;250m    \u001b[39m\u001b[38;5;124;03m\"\"\"\u001b[39;00m\n\u001b[1;32m   8020\u001b[0m \u001b[38;5;124;03m    Select columns from this DataFrame.\u001b[39;00m\n\u001b[1;32m   8021\u001b[0m \n\u001b[0;32m   (...)\u001b[0m\n\u001b[1;32m   8114\u001b[0m \u001b[38;5;124;03m    └───────────┘\u001b[39;00m\n\u001b[1;32m   8115\u001b[0m \u001b[38;5;124;03m    \"\"\"\u001b[39;00m\n\u001b[0;32m-> 8116\u001b[0m     \u001b[38;5;28;01mreturn\u001b[39;00m \u001b[38;5;28;43mself\u001b[39;49m\u001b[38;5;241;43m.\u001b[39;49m\u001b[43mlazy\u001b[49m\u001b[43m(\u001b[49m\u001b[43m)\u001b[49m\u001b[38;5;241;43m.\u001b[39;49m\u001b[43mselect\u001b[49m\u001b[43m(\u001b[49m\u001b[38;5;241;43m*\u001b[39;49m\u001b[43mexprs\u001b[49m\u001b[43m,\u001b[49m\u001b[43m \u001b[49m\u001b[38;5;241;43m*\u001b[39;49m\u001b[38;5;241;43m*\u001b[39;49m\u001b[43mnamed_exprs\u001b[49m\u001b[43m)\u001b[49m\u001b[38;5;241;43m.\u001b[39;49m\u001b[43mcollect\u001b[49m\u001b[43m(\u001b[49m\u001b[43m_eager\u001b[49m\u001b[38;5;241;43m=\u001b[39;49m\u001b[38;5;28;43;01mTrue\u001b[39;49;00m\u001b[43m)\u001b[49m\n",
      "File \u001b[0;32m~/Desktop/Polars-Cookbook/.venv/lib/python3.11/site-packages/polars/lazyframe/frame.py:1934\u001b[0m, in \u001b[0;36mLazyFrame.collect\u001b[0;34m(self, type_coercion, predicate_pushdown, projection_pushdown, simplify_expression, slice_pushdown, comm_subplan_elim, comm_subexpr_elim, no_optimization, streaming, background, _eager)\u001b[0m\n\u001b[1;32m   1931\u001b[0m \u001b[38;5;28;01mif\u001b[39;00m background:\n\u001b[1;32m   1932\u001b[0m     \u001b[38;5;28;01mreturn\u001b[39;00m InProcessQuery(ldf\u001b[38;5;241m.\u001b[39mcollect_concurrently())\n\u001b[0;32m-> 1934\u001b[0m \u001b[38;5;28;01mreturn\u001b[39;00m wrap_df(ldf\u001b[38;5;241m.\u001b[39mcollect())\n",
      "\u001b[0;31mColumnNotFoundError\u001b[0m: Deffense\n\nError originated just after this operation:\nDF [\"#\", \"Name\", \"Type 1\", \"Type 2\"]; PROJECT */16 COLUMNS; SELECTION: \"None\""
     ]
    }
   ],
   "source": [
    "(\n",
    "    lf\n",
    "    .collect()\n",
    "    .with_columns(\n",
    "        pl.col('Attack').rank(method='dense').alias('Atk Rank'),\n",
    "        pl.col('Defense').rank(method='dense').alias('Def Rank'),\n",
    "        pl.col('Speed').rank(method='dense').alias('Spe Rank'),\n",
    "    )\n",
    "    .select(\n",
    "        'Name',\n",
    "        'Total',\n",
    "        'Attack',\n",
    "        'Deffense',\n",
    "        'Speed',\n",
    "        pl.col('^*Rank$')\n",
    "    )\n",
    "    .sort('Total')\n",
    "    .head()\n",
    ")"
   ]
  },
  {
   "cell_type": "markdown",
   "metadata": {},
   "source": [
    "### There is more..."
   ]
  },
  {
   "cell_type": "code",
   "execution_count": 30,
   "metadata": {},
   "outputs": [
    {
     "data": {
      "text/html": [
       "<div><style>\n",
       ".dataframe > thead > tr,\n",
       ".dataframe > tbody > tr {\n",
       "  text-align: right;\n",
       "  white-space: pre-wrap;\n",
       "}\n",
       "</style>\n",
       "<small>shape: (5, 8)</small><table border=\"1\" class=\"dataframe\"><thead><tr><th>Name</th><th>Total</th><th>Attack</th><th>Defense</th><th>Speed</th><th>Atk Rank</th><th>Def Rank</th><th>Spe Rank</th></tr><tr><td>str</td><td>i64</td><td>i64</td><td>i64</td><td>i64</td><td>u32</td><td>u32</td><td>u32</td></tr></thead><tbody><tr><td>&quot;Caterpie&quot;</td><td>195</td><td>30</td><td>35</td><td>45</td><td>5</td><td>6</td><td>10</td></tr><tr><td>&quot;Weedle&quot;</td><td>195</td><td>35</td><td>30</td><td>50</td><td>6</td><td>5</td><td>12</td></tr><tr><td>&quot;Magikarp&quot;</td><td>200</td><td>10</td><td>55</td><td>80</td><td>2</td><td>16</td><td>27</td></tr><tr><td>&quot;Kakuna&quot;</td><td>205</td><td>25</td><td>50</td><td>35</td><td>4</td><td>13</td><td>5</td></tr><tr><td>&quot;Metapod&quot;</td><td>205</td><td>20</td><td>55</td><td>30</td><td>3</td><td>16</td><td>4</td></tr></tbody></table></div>"
      ],
      "text/plain": [
       "shape: (5, 8)\n",
       "┌──────────┬───────┬────────┬─────────┬───────┬──────────┬──────────┬──────────┐\n",
       "│ Name     ┆ Total ┆ Attack ┆ Defense ┆ Speed ┆ Atk Rank ┆ Def Rank ┆ Spe Rank │\n",
       "│ ---      ┆ ---   ┆ ---    ┆ ---     ┆ ---   ┆ ---      ┆ ---      ┆ ---      │\n",
       "│ str      ┆ i64   ┆ i64    ┆ i64     ┆ i64   ┆ u32      ┆ u32      ┆ u32      │\n",
       "╞══════════╪═══════╪════════╪═════════╪═══════╪══════════╪══════════╪══════════╡\n",
       "│ Caterpie ┆ 195   ┆ 30     ┆ 35      ┆ 45    ┆ 5        ┆ 6        ┆ 10       │\n",
       "│ Weedle   ┆ 195   ┆ 35     ┆ 30      ┆ 50    ┆ 6        ┆ 5        ┆ 12       │\n",
       "│ Magikarp ┆ 200   ┆ 10     ┆ 55      ┆ 80    ┆ 2        ┆ 16       ┆ 27       │\n",
       "│ Kakuna   ┆ 205   ┆ 25     ┆ 50      ┆ 35    ┆ 4        ┆ 13       ┆ 5        │\n",
       "│ Metapod  ┆ 205   ┆ 20     ┆ 55      ┆ 30    ┆ 3        ┆ 16       ┆ 4        │\n",
       "└──────────┴───────┴────────┴─────────┴───────┴──────────┴──────────┴──────────┘"
      ]
     },
     "execution_count": 30,
     "metadata": {},
     "output_type": "execute_result"
    }
   ],
   "source": [
    "def add_ranks(lf):\n",
    "    return (\n",
    "        lf\n",
    "        .with_columns(\n",
    "            pl.col('Attack').rank(method='dense').alias('Atk Rank'),\n",
    "            pl.col('Defense').rank(method='dense').alias('Def Rank'),\n",
    "            pl.col('Speed').rank(method='dense').alias('Spe Rank'),\n",
    "        )\n",
    "    )\n",
    "\n",
    "def keep_cols(lf):\n",
    "    return (\n",
    "        lf\n",
    "        .select(\n",
    "            'Name',\n",
    "            'Total',\n",
    "            'Attack',\n",
    "            'Defense',\n",
    "            'Speed',\n",
    "            pl.col('^*Rank$')\n",
    "        )\n",
    "    )\n",
    "\n",
    "(\n",
    "    lf\n",
    "    .pipe(add_ranks)\n",
    "    .pipe(keep_cols)\n",
    "    .sort('Total')\n",
    "    .head()\n",
    "    .collect()\n",
    ")"
   ]
  },
  {
   "cell_type": "markdown",
   "metadata": {},
   "source": [
    "## Inspecting and optimizing the query plan"
   ]
  },
  {
   "cell_type": "markdown",
   "metadata": {},
   "source": [
    "### How to do it..."
   ]
  },
  {
   "cell_type": "code",
   "execution_count": 31,
   "metadata": {},
   "outputs": [],
   "source": [
    "def keep_grass_or_fire(lf):\n",
    "    accepted_types = ['Grass', 'Fire']\n",
    "    return (\n",
    "        lf\n",
    "        .filter(\n",
    "            (pl.col('Type 1').is_in(accepted_types))\n",
    "            | (pl.col('Type 2').is_in(accepted_types))\n",
    "        )\n",
    "    )"
   ]
  },
  {
   "cell_type": "code",
   "execution_count": 32,
   "metadata": {},
   "outputs": [
    {
     "data": {
      "image/svg+xml": [
       "<svg xmlns=\"http://www.w3.org/2000/svg\" xmlns:xlink=\"http://www.w3.org/1999/xlink\" width=\"520pt\" height=\"282pt\" viewBox=\"0.00 0.00 519.75 281.50\">\n",
       "<g id=\"graph0\" class=\"graph\" transform=\"scale(1 1) rotate(0) translate(4 277.5)\">\n",
       "<title>polars_query</title>\n",
       "<polygon fill=\"white\" stroke=\"none\" points=\"-4,4 -4,-277.5 515.75,-277.5 515.75,4 -4,4\"/>\n",
       "<!-- FAST_PROJECT: [Name, Total, Attack, Defense, Speed, Atk Rank, Def Rank, Spe Rank] [(0, 0)] -->\n",
       "<g id=\"node1\" class=\"node\">\n",
       "<title>FAST_PROJECT: [Name, Total, Attack, Defense, Speed, Atk Rank, Def Rank, Spe Rank] [(0, 0)]</title>\n",
       "<polygon fill=\"none\" stroke=\"black\" points=\"511.75,-273.5 0,-273.5 0,-237.5 511.75,-237.5 511.75,-273.5\"/>\n",
       "<text text-anchor=\"middle\" x=\"255.88\" y=\"-250.45\" font-family=\"Times,serif\" font-size=\"14.00\">FAST_PROJECT: [Name, Total, Attack, Defense, Speed, Atk Rank, Def Rank, Spe Rank]</text>\n",
       "</g>\n",
       "<!-- FILTER BY (col(&quot;Type 1&quot;).is_in(Seri... [(0, 1)] -->\n",
       "<g id=\"node2\" class=\"node\">\n",
       "<title>FILTER BY (col(&quot;Type 1&quot;).is_in(Seri... [(0, 1)]</title>\n",
       "<polygon fill=\"none\" stroke=\"black\" points=\"373.38,-201.5 138.38,-201.5 138.38,-165.5 373.38,-165.5 373.38,-201.5\"/>\n",
       "<text text-anchor=\"middle\" x=\"255.88\" y=\"-178.45\" font-family=\"Times,serif\" font-size=\"14.00\">FILTER BY (col(&quot;Type 1&quot;).is_in(Seri...</text>\n",
       "</g>\n",
       "<!-- FAST_PROJECT: [Name, Total, Attack, Defense, Speed, Atk Rank, Def Rank, Spe Rank] [(0, 0)]&#45;&#45;FILTER BY (col(&quot;Type 1&quot;).is_in(Seri... [(0, 1)] -->\n",
       "<g id=\"edge1\" class=\"edge\">\n",
       "<title>FAST_PROJECT: [Name, Total, Attack, Defense, Speed, Atk Rank, Def Rank, Spe Rank] [(0, 0)]--FILTER BY (col(&quot;Type 1&quot;).is_in(Seri... [(0, 1)]</title>\n",
       "<path fill=\"none\" stroke=\"black\" d=\"M255.88,-237.2C255.88,-226.35 255.88,-212.42 255.88,-201.6\"/>\n",
       "</g>\n",
       "<!-- WITH COLUMNS [&quot;Atk Rank&quot;,&quot;Def Rank&quot;,&quot;Spe Rank&quot;] [(0, 2)] -->\n",
       "<g id=\"node3\" class=\"node\">\n",
       "<title>WITH COLUMNS [&quot;Atk Rank&quot;,&quot;Def Rank&quot;,&quot;Spe Rank&quot;] [(0, 2)]</title>\n",
       "<polygon fill=\"none\" stroke=\"black\" points=\"424,-129.5 87.75,-129.5 87.75,-93.5 424,-93.5 424,-129.5\"/>\n",
       "<text text-anchor=\"middle\" x=\"255.88\" y=\"-106.45\" font-family=\"Times,serif\" font-size=\"14.00\">WITH COLUMNS [&quot;Atk Rank&quot;,&quot;Def Rank&quot;,&quot;Spe Rank&quot;]</text>\n",
       "</g>\n",
       "<!-- FILTER BY (col(&quot;Type 1&quot;).is_in(Seri... [(0, 1)]&#45;&#45;WITH COLUMNS [&quot;Atk Rank&quot;,&quot;Def Rank&quot;,&quot;Spe Rank&quot;] [(0, 2)] -->\n",
       "<g id=\"edge2\" class=\"edge\">\n",
       "<title>FILTER BY (col(&quot;Type 1&quot;).is_in(Seri... [(0, 1)]--WITH COLUMNS [&quot;Atk Rank&quot;,&quot;Def Rank&quot;,&quot;Spe Rank&quot;] [(0, 2)]</title>\n",
       "<path fill=\"none\" stroke=\"black\" d=\"M255.88,-165.2C255.88,-154.35 255.88,-140.42 255.88,-129.6\"/>\n",
       "</g>\n",
       "<!-- Csv SCAN ../data/pokemon.csv;\n",
       "π 7/13;\n",
       "σ &#45; [(0, 3)] -->\n",
       "<g id=\"node4\" class=\"node\">\n",
       "<title>Csv SCAN ../data/pokemon.csv;\n",
       "π 7/13;\n",
       "σ - [(0, 3)]</title>\n",
       "<polygon fill=\"none\" stroke=\"black\" points=\"353.12,-57.5 158.62,-57.5 158.62,0 353.12,0 353.12,-57.5\"/>\n",
       "<text text-anchor=\"middle\" x=\"255.88\" y=\"-40.2\" font-family=\"Times,serif\" font-size=\"14.00\">Csv SCAN ../data/pokemon.csv;</text>\n",
       "<text text-anchor=\"middle\" x=\"255.88\" y=\"-23.7\" font-family=\"Times,serif\" font-size=\"14.00\">π 7/13;</text>\n",
       "<text text-anchor=\"middle\" x=\"255.88\" y=\"-7.2\" font-family=\"Times,serif\" font-size=\"14.00\">σ -</text>\n",
       "</g>\n",
       "<!-- WITH COLUMNS [&quot;Atk Rank&quot;,&quot;Def Rank&quot;,&quot;Spe Rank&quot;] [(0, 2)]&#45;&#45;Csv SCAN ../data/pokemon.csv;\n",
       "π 7/13;\n",
       "σ &#45; [(0, 3)] -->\n",
       "<g id=\"edge3\" class=\"edge\">\n",
       "<title>WITH COLUMNS [&quot;Atk Rank&quot;,&quot;Def Rank&quot;,&quot;Spe Rank&quot;] [(0, 2)]--Csv SCAN ../data/pokemon.csv;\n",
       "π 7/13;\n",
       "σ - [(0, 3)]</title>\n",
       "<path fill=\"none\" stroke=\"black\" d=\"M255.88,-93.38C255.88,-83.1 255.88,-69.77 255.88,-57.97\"/>\n",
       "</g>\n",
       "</g>\n",
       "</svg>"
      ],
      "text/plain": [
       "<IPython.core.display.SVG object>"
      ]
     },
     "metadata": {},
     "output_type": "display_data"
    }
   ],
   "source": [
    "(\n",
    "    lf\n",
    "    .pipe(add_ranks)\n",
    "    .pipe(keep_grass_or_fire)\n",
    "    .pipe(keep_cols)\n",
    "    .show_graph()\n",
    ")"
   ]
  },
  {
   "cell_type": "code",
   "execution_count": 33,
   "metadata": {},
   "outputs": [
    {
     "data": {
      "image/svg+xml": [
       "<svg xmlns=\"http://www.w3.org/2000/svg\" xmlns:xlink=\"http://www.w3.org/1999/xlink\" width=\"344pt\" height=\"282pt\" viewBox=\"0.00 0.00 344.25 281.50\">\n",
       "<g id=\"graph0\" class=\"graph\" transform=\"scale(1 1) rotate(0) translate(4 277.5)\">\n",
       "<title>polars_query</title>\n",
       "<polygon fill=\"white\" stroke=\"none\" points=\"-4,4 -4,-277.5 340.25,-277.5 340.25,4 -4,4\"/>\n",
       "<!-- π 8/16 [(0, 0)] -->\n",
       "<g id=\"node1\" class=\"node\">\n",
       "<title>π 8/16 [(0, 0)]</title>\n",
       "<polygon fill=\"none\" stroke=\"black\" points=\"195.12,-273.5 141.12,-273.5 141.12,-237.5 195.12,-237.5 195.12,-273.5\"/>\n",
       "<text text-anchor=\"middle\" x=\"168.12\" y=\"-250.45\" font-family=\"Times,serif\" font-size=\"14.00\">π 8/16</text>\n",
       "</g>\n",
       "<!-- FILTER BY (col(&quot;Type 1&quot;).is_in(Seri... [(0, 1)] -->\n",
       "<g id=\"node2\" class=\"node\">\n",
       "<title>FILTER BY (col(&quot;Type 1&quot;).is_in(Seri... [(0, 1)]</title>\n",
       "<polygon fill=\"none\" stroke=\"black\" points=\"285.62,-201.5 50.62,-201.5 50.62,-165.5 285.62,-165.5 285.62,-201.5\"/>\n",
       "<text text-anchor=\"middle\" x=\"168.12\" y=\"-178.45\" font-family=\"Times,serif\" font-size=\"14.00\">FILTER BY (col(&quot;Type 1&quot;).is_in(Seri...</text>\n",
       "</g>\n",
       "<!-- π 8/16 [(0, 0)]&#45;&#45;FILTER BY (col(&quot;Type 1&quot;).is_in(Seri... [(0, 1)] -->\n",
       "<g id=\"edge1\" class=\"edge\">\n",
       "<title>π 8/16 [(0, 0)]--FILTER BY (col(&quot;Type 1&quot;).is_in(Seri... [(0, 1)]</title>\n",
       "<path fill=\"none\" stroke=\"black\" d=\"M168.12,-237.2C168.12,-226.35 168.12,-212.42 168.12,-201.6\"/>\n",
       "</g>\n",
       "<!-- WITH COLUMNS [&quot;Atk Rank&quot;,&quot;Def Rank&quot;,&quot;Spe Rank&quot;] [(0, 2)] -->\n",
       "<g id=\"node3\" class=\"node\">\n",
       "<title>WITH COLUMNS [&quot;Atk Rank&quot;,&quot;Def Rank&quot;,&quot;Spe Rank&quot;] [(0, 2)]</title>\n",
       "<polygon fill=\"none\" stroke=\"black\" points=\"336.25,-129.5 0,-129.5 0,-93.5 336.25,-93.5 336.25,-129.5\"/>\n",
       "<text text-anchor=\"middle\" x=\"168.12\" y=\"-106.45\" font-family=\"Times,serif\" font-size=\"14.00\">WITH COLUMNS [&quot;Atk Rank&quot;,&quot;Def Rank&quot;,&quot;Spe Rank&quot;]</text>\n",
       "</g>\n",
       "<!-- FILTER BY (col(&quot;Type 1&quot;).is_in(Seri... [(0, 1)]&#45;&#45;WITH COLUMNS [&quot;Atk Rank&quot;,&quot;Def Rank&quot;,&quot;Spe Rank&quot;] [(0, 2)] -->\n",
       "<g id=\"edge2\" class=\"edge\">\n",
       "<title>FILTER BY (col(&quot;Type 1&quot;).is_in(Seri... [(0, 1)]--WITH COLUMNS [&quot;Atk Rank&quot;,&quot;Def Rank&quot;,&quot;Spe Rank&quot;] [(0, 2)]</title>\n",
       "<path fill=\"none\" stroke=\"black\" d=\"M168.12,-165.2C168.12,-154.35 168.12,-140.42 168.12,-129.6\"/>\n",
       "</g>\n",
       "<!-- Csv SCAN ../data/pokemon.csv;\n",
       "π */13;\n",
       "σ &#45; [(0, 3)] -->\n",
       "<g id=\"node4\" class=\"node\">\n",
       "<title>Csv SCAN ../data/pokemon.csv;\n",
       "π */13;\n",
       "σ - [(0, 3)]</title>\n",
       "<polygon fill=\"none\" stroke=\"black\" points=\"265.38,-57.5 70.88,-57.5 70.88,0 265.38,0 265.38,-57.5\"/>\n",
       "<text text-anchor=\"middle\" x=\"168.12\" y=\"-40.2\" font-family=\"Times,serif\" font-size=\"14.00\">Csv SCAN ../data/pokemon.csv;</text>\n",
       "<text text-anchor=\"middle\" x=\"168.12\" y=\"-23.7\" font-family=\"Times,serif\" font-size=\"14.00\">π */13;</text>\n",
       "<text text-anchor=\"middle\" x=\"168.12\" y=\"-7.2\" font-family=\"Times,serif\" font-size=\"14.00\">σ -</text>\n",
       "</g>\n",
       "<!-- WITH COLUMNS [&quot;Atk Rank&quot;,&quot;Def Rank&quot;,&quot;Spe Rank&quot;] [(0, 2)]&#45;&#45;Csv SCAN ../data/pokemon.csv;\n",
       "π */13;\n",
       "σ &#45; [(0, 3)] -->\n",
       "<g id=\"edge3\" class=\"edge\">\n",
       "<title>WITH COLUMNS [&quot;Atk Rank&quot;,&quot;Def Rank&quot;,&quot;Spe Rank&quot;] [(0, 2)]--Csv SCAN ../data/pokemon.csv;\n",
       "π */13;\n",
       "σ - [(0, 3)]</title>\n",
       "<path fill=\"none\" stroke=\"black\" d=\"M168.12,-93.38C168.12,-83.1 168.12,-69.77 168.12,-57.97\"/>\n",
       "</g>\n",
       "</g>\n",
       "</svg>"
      ],
      "text/plain": [
       "<IPython.core.display.SVG object>"
      ]
     },
     "metadata": {},
     "output_type": "display_data"
    }
   ],
   "source": [
    "(\n",
    "    lf\n",
    "    .pipe(add_ranks)\n",
    "    .pipe(keep_grass_or_fire)\n",
    "    .pipe(keep_cols)\n",
    "    .show_graph(optimized=False)\n",
    ")"
   ]
  },
  {
   "cell_type": "code",
   "execution_count": 34,
   "metadata": {},
   "outputs": [
    {
     "name": "stdout",
     "output_type": "stream",
     "text": [
      "FAST_PROJECT: [Name, Total, Attack, Defense, Speed, Atk Rank, Def Rank, Spe Rank]\n",
      "  FILTER [(col(\"Type 1\").is_in([Series])) | (col(\"Type 2\").is_in([Series]))] FROM\n",
      "\n",
      "   WITH_COLUMNS:\n",
      "   [col(\"Attack\").rank().alias(\"Atk Rank\"), col(\"Defense\").rank().alias(\"Def Rank\"), col(\"Speed\").rank().alias(\"Spe Rank\")]\n",
      "\n",
      "      Csv SCAN ../data/pokemon.csv\n",
      "      PROJECT 7/13 COLUMNS\n"
     ]
    }
   ],
   "source": [
    "print(\n",
    "    lf\n",
    "    .pipe(add_ranks)\n",
    "    .pipe(keep_grass_or_fire)\n",
    "    .pipe(keep_cols)\n",
    "    .explain()\n",
    ")"
   ]
  },
  {
   "cell_type": "code",
   "execution_count": 35,
   "metadata": {},
   "outputs": [
    {
     "name": "stdout",
     "output_type": "stream",
     "text": [
      " SELECT [col(\"Name\"), col(\"Total\"), col(\"Attack\"), col(\"Defense\"), col(\"Speed\"), col(\"Atk Rank\"), col(\"Def Rank\"), col(\"Spe Rank\")] FROM\n",
      "  FILTER [(col(\"Type 1\").is_in([Series])) | (col(\"Type 2\").is_in([Series]))] FROM\n",
      "\n",
      "   WITH_COLUMNS:\n",
      "   [col(\"Attack\").rank().alias(\"Atk Rank\"), col(\"Defense\").rank().alias(\"Def Rank\"), col(\"Speed\").rank().alias(\"Spe Rank\")]\n",
      "\n",
      "      Csv SCAN ../data/pokemon.csv\n",
      "      PROJECT */13 COLUMNS\n"
     ]
    }
   ],
   "source": [
    "print(\n",
    "    lf\n",
    "    .pipe(add_ranks)\n",
    "    .pipe(keep_grass_or_fire)\n",
    "    .pipe(keep_cols)\n",
    "    .explain(optimized=False)\n",
    ")"
   ]
  },
  {
   "cell_type": "code",
   "execution_count": 36,
   "metadata": {},
   "outputs": [
    {
     "data": {
      "image/svg+xml": [
       "<svg xmlns=\"http://www.w3.org/2000/svg\" xmlns:xlink=\"http://www.w3.org/1999/xlink\" width=\"344pt\" height=\"210pt\" viewBox=\"0.00 0.00 344.25 209.50\">\n",
       "<g id=\"graph0\" class=\"graph\" transform=\"scale(1 1) rotate(0) translate(4 205.5)\">\n",
       "<title>polars_query</title>\n",
       "<polygon fill=\"white\" stroke=\"none\" points=\"-4,4 -4,-205.5 340.25,-205.5 340.25,4 -4,4\"/>\n",
       "<!-- WITH COLUMNS [&quot;Atk Rank&quot;,&quot;Def Rank&quot;,&quot;Spe Rank&quot;] [(0, 0)] -->\n",
       "<g id=\"node1\" class=\"node\">\n",
       "<title>WITH COLUMNS [&quot;Atk Rank&quot;,&quot;Def Rank&quot;,&quot;Spe Rank&quot;] [(0, 0)]</title>\n",
       "<polygon fill=\"none\" stroke=\"black\" points=\"336.25,-201.5 0,-201.5 0,-165.5 336.25,-165.5 336.25,-201.5\"/>\n",
       "<text text-anchor=\"middle\" x=\"168.12\" y=\"-178.45\" font-family=\"Times,serif\" font-size=\"14.00\">WITH COLUMNS [&quot;Atk Rank&quot;,&quot;Def Rank&quot;,&quot;Spe Rank&quot;]</text>\n",
       "</g>\n",
       "<!-- FAST_PROJECT: [Name, Total, Attack, Defense, Speed] [(0, 1)] -->\n",
       "<g id=\"node2\" class=\"node\">\n",
       "<title>FAST_PROJECT: [Name, Total, Attack, Defense, Speed] [(0, 1)]</title>\n",
       "<polygon fill=\"none\" stroke=\"black\" points=\"334.38,-129.5 1.88,-129.5 1.88,-93.5 334.38,-93.5 334.38,-129.5\"/>\n",
       "<text text-anchor=\"middle\" x=\"168.12\" y=\"-106.45\" font-family=\"Times,serif\" font-size=\"14.00\">FAST_PROJECT: [Name, Total, Attack, Defense, Speed]</text>\n",
       "</g>\n",
       "<!-- WITH COLUMNS [&quot;Atk Rank&quot;,&quot;Def Rank&quot;,&quot;Spe Rank&quot;] [(0, 0)]&#45;&#45;FAST_PROJECT: [Name, Total, Attack, Defense, Speed] [(0, 1)] -->\n",
       "<g id=\"edge1\" class=\"edge\">\n",
       "<title>WITH COLUMNS [&quot;Atk Rank&quot;,&quot;Def Rank&quot;,&quot;Spe Rank&quot;] [(0, 0)]--FAST_PROJECT: [Name, Total, Attack, Defense, Speed] [(0, 1)]</title>\n",
       "<path fill=\"none\" stroke=\"black\" d=\"M168.12,-165.2C168.12,-154.35 168.12,-140.42 168.12,-129.6\"/>\n",
       "</g>\n",
       "<!-- Csv SCAN ../data/pokemon.csv;\n",
       "π 7/13;\n",
       "σ (col(&quot;Type 1&quot;).is_in(Seri... [(0, 2)] -->\n",
       "<g id=\"node3\" class=\"node\">\n",
       "<title>Csv SCAN ../data/pokemon.csv;\n",
       "π 7/13;\n",
       "σ (col(&quot;Type 1&quot;).is_in(Seri... [(0, 2)]</title>\n",
       "<polygon fill=\"none\" stroke=\"black\" points=\"265.38,-57.5 70.88,-57.5 70.88,0 265.38,0 265.38,-57.5\"/>\n",
       "<text text-anchor=\"middle\" x=\"168.12\" y=\"-40.2\" font-family=\"Times,serif\" font-size=\"14.00\">Csv SCAN ../data/pokemon.csv;</text>\n",
       "<text text-anchor=\"middle\" x=\"168.12\" y=\"-23.7\" font-family=\"Times,serif\" font-size=\"14.00\">π 7/13;</text>\n",
       "<text text-anchor=\"middle\" x=\"168.12\" y=\"-7.2\" font-family=\"Times,serif\" font-size=\"14.00\">σ (col(&quot;Type 1&quot;).is_in(Seri...</text>\n",
       "</g>\n",
       "<!-- FAST_PROJECT: [Name, Total, Attack, Defense, Speed] [(0, 1)]&#45;&#45;Csv SCAN ../data/pokemon.csv;\n",
       "π 7/13;\n",
       "σ (col(&quot;Type 1&quot;).is_in(Seri... [(0, 2)] -->\n",
       "<g id=\"edge2\" class=\"edge\">\n",
       "<title>FAST_PROJECT: [Name, Total, Attack, Defense, Speed] [(0, 1)]--Csv SCAN ../data/pokemon.csv;\n",
       "π 7/13;\n",
       "σ (col(&quot;Type 1&quot;).is_in(Seri... [(0, 2)]</title>\n",
       "<path fill=\"none\" stroke=\"black\" d=\"M168.12,-93.38C168.12,-83.1 168.12,-69.77 168.12,-57.97\"/>\n",
       "</g>\n",
       "</g>\n",
       "</svg>"
      ],
      "text/plain": [
       "<IPython.core.display.SVG object>"
      ]
     },
     "metadata": {},
     "output_type": "display_data"
    }
   ],
   "source": [
    "(\n",
    "    lf\n",
    "    .pipe(keep_grass_or_fire)\n",
    "    .pipe(keep_cols)    \n",
    "    .pipe(add_ranks)\n",
    "    .show_graph()\n",
    ")"
   ]
  },
  {
   "cell_type": "markdown",
   "metadata": {},
   "source": [
    "### There is more..."
   ]
  },
  {
   "cell_type": "code",
   "execution_count": 37,
   "metadata": {},
   "outputs": [
    {
     "name": "stderr",
     "output_type": "stream",
     "text": [
      "/var/folders/4l/yz8bs9_14yj6_1v4hn7dh70h0000gn/T/ipykernel_72627/1552515462.py:6: UserWarning: Cannot combine 'streaming' with 'comm_subplan_elim'. CSE will be turned off.\n",
      "  .show_graph(streaming=True)\n"
     ]
    },
    {
     "data": {
      "image/svg+xml": [
       "<svg xmlns=\"http://www.w3.org/2000/svg\" xmlns:xlink=\"http://www.w3.org/1999/xlink\" width=\"607pt\" height=\"280pt\" viewBox=\"0.00 0.00 606.75 280.00\">\n",
       "<g id=\"graph0\" class=\"graph\" transform=\"scale(1 1) rotate(0) translate(4 276)\">\n",
       "<title>polars_query</title>\n",
       "<polygon fill=\"white\" stroke=\"none\" points=\"-4,4 -4,-276 602.75,-276 602.75,4 -4,4\"/>\n",
       "<!-- WITH COLUMNS [&quot;Atk Rank&quot;,&quot;Def Rank&quot;,&quot;Spe Rank&quot;] [(0, 0)] -->\n",
       "<g id=\"node1\" class=\"node\">\n",
       "<title>WITH COLUMNS [&quot;Atk Rank&quot;,&quot;Def Rank&quot;,&quot;Spe Rank&quot;] [(0, 0)]</title>\n",
       "<polygon fill=\"none\" stroke=\"black\" points=\"467.5,-272 131.25,-272 131.25,-236 467.5,-236 467.5,-272\"/>\n",
       "<text text-anchor=\"middle\" x=\"299.38\" y=\"-248.95\" font-family=\"Times,serif\" font-size=\"14.00\">WITH COLUMNS [&quot;Atk Rank&quot;,&quot;Def Rank&quot;,&quot;Spe Rank&quot;]</text>\n",
       "</g>\n",
       "<!-- &#45;&#45;&#45; STREAMING\n",
       "FAST_PROJECT: [Name, Total, Attack, Defense, Speed]\n",
       "\n",
       " &#160;&#160;&#160;Csv SCAN ../data/pokemon.csv\n",
       " &#160;&#160;&#160;PROJECT 7/13 COLUMNS\n",
       " &#160;&#160;&#160;SELECTION: [(col(&quot;Type 1&quot;).is_in([Series])) | (col(&quot;Type 2&quot;).is_in([Series]))] &#160;&#45;&#45;&#45; END STREAMING\n",
       " [(0, 1)] -->\n",
       "<g id=\"node2\" class=\"node\">\n",
       "<title>--- STREAMING\n",
       "FAST_PROJECT: [Name, Total, Attack, Defense, Speed]\n",
       "\n",
       "    Csv SCAN ../data/pokemon.csv\n",
       "    PROJECT 7/13 COLUMNS\n",
       "    SELECTION: [(col(&quot;Type 1&quot;).is_in([Series])) | (col(&quot;Type 2&quot;).is_in([Series]))]  --- END STREAMING\n",
       " [(0, 1)]</title>\n",
       "<polygon fill=\"none\" stroke=\"black\" points=\"598.75,-200 0,-200 0,-93.5 598.75,-93.5 598.75,-200\"/>\n",
       "<text text-anchor=\"middle\" x=\"299.38\" y=\"-182.7\" font-family=\"Times,serif\" font-size=\"14.00\">--- STREAMING</text>\n",
       "<text text-anchor=\"middle\" x=\"299.38\" y=\"-166.2\" font-family=\"Times,serif\" font-size=\"14.00\">FAST_PROJECT: [Name, Total, Attack, Defense, Speed]</text>\n",
       "<text text-anchor=\"middle\" x=\"299.38\" y=\"-133.7\" font-family=\"Times,serif\" font-size=\"14.00\">    Csv SCAN ../data/pokemon.csv</text>\n",
       "<text text-anchor=\"middle\" x=\"299.38\" y=\"-117.2\" font-family=\"Times,serif\" font-size=\"14.00\">    PROJECT 7/13 COLUMNS</text>\n",
       "<text text-anchor=\"middle\" x=\"299.38\" y=\"-100.7\" font-family=\"Times,serif\" font-size=\"14.00\">    SELECTION: [(col(&quot;Type 1&quot;).is_in([Series])) | (col(&quot;Type 2&quot;).is_in([Series]))]  --- END STREAMING</text>\n",
       "</g>\n",
       "<!-- WITH COLUMNS [&quot;Atk Rank&quot;,&quot;Def Rank&quot;,&quot;Spe Rank&quot;] [(0, 0)]&#45;&#45;&#45;&#45;&#45; STREAMING\n",
       "FAST_PROJECT: [Name, Total, Attack, Defense, Speed]\n",
       "\n",
       " &#160;&#160;&#160;Csv SCAN ../data/pokemon.csv\n",
       " &#160;&#160;&#160;PROJECT 7/13 COLUMNS\n",
       " &#160;&#160;&#160;SELECTION: [(col(&quot;Type 1&quot;).is_in([Series])) | (col(&quot;Type 2&quot;).is_in([Series]))] &#160;&#45;&#45;&#45; END STREAMING\n",
       " [(0, 1)] -->\n",
       "<g id=\"edge1\" class=\"edge\">\n",
       "<title>WITH COLUMNS [&quot;Atk Rank&quot;,&quot;Def Rank&quot;,&quot;Spe Rank&quot;] [(0, 0)]----- STREAMING\n",
       "FAST_PROJECT: [Name, Total, Attack, Defense, Speed]\n",
       "\n",
       "    Csv SCAN ../data/pokemon.csv\n",
       "    PROJECT 7/13 COLUMNS\n",
       "    SELECTION: [(col(&quot;Type 1&quot;).is_in([Series])) | (col(&quot;Type 2&quot;).is_in([Series]))]  --- END STREAMING\n",
       " [(0, 1)]</title>\n",
       "<path fill=\"none\" stroke=\"black\" d=\"M299.38,-235.62C299.38,-225.81 299.38,-212.98 299.38,-200.16\"/>\n",
       "</g>\n",
       "<!-- TABLE\n",
       "π */0;\n",
       "σ &#45; [(0, 2)] -->\n",
       "<g id=\"node3\" class=\"node\">\n",
       "<title>TABLE\n",
       "π */0;\n",
       "σ - [(0, 2)]</title>\n",
       "<polygon fill=\"none\" stroke=\"black\" points=\"329.12,-57.5 269.62,-57.5 269.62,0 329.12,0 329.12,-57.5\"/>\n",
       "<text text-anchor=\"middle\" x=\"299.38\" y=\"-40.2\" font-family=\"Times,serif\" font-size=\"14.00\">TABLE</text>\n",
       "<text text-anchor=\"middle\" x=\"299.38\" y=\"-23.7\" font-family=\"Times,serif\" font-size=\"14.00\">π */0;</text>\n",
       "<text text-anchor=\"middle\" x=\"299.38\" y=\"-7.2\" font-family=\"Times,serif\" font-size=\"14.00\">σ -</text>\n",
       "</g>\n",
       "<!-- &#45;&#45;&#45; STREAMING\n",
       "FAST_PROJECT: [Name, Total, Attack, Defense, Speed]\n",
       "\n",
       " &#160;&#160;&#160;Csv SCAN ../data/pokemon.csv\n",
       " &#160;&#160;&#160;PROJECT 7/13 COLUMNS\n",
       " &#160;&#160;&#160;SELECTION: [(col(&quot;Type 1&quot;).is_in([Series])) | (col(&quot;Type 2&quot;).is_in([Series]))] &#160;&#45;&#45;&#45; END STREAMING\n",
       " [(0, 1)]&#45;&#45;TABLE\n",
       "π */0;\n",
       "σ &#45; [(0, 2)] -->\n",
       "<g id=\"edge2\" class=\"edge\">\n",
       "<title>--- STREAMING\n",
       "FAST_PROJECT: [Name, Total, Attack, Defense, Speed]\n",
       "\n",
       "    Csv SCAN ../data/pokemon.csv\n",
       "    PROJECT 7/13 COLUMNS\n",
       "    SELECTION: [(col(&quot;Type 1&quot;).is_in([Series])) | (col(&quot;Type 2&quot;).is_in([Series]))]  --- END STREAMING\n",
       " [(0, 1)]--TABLE\n",
       "π */0;\n",
       "σ - [(0, 2)]</title>\n",
       "<path fill=\"none\" stroke=\"black\" d=\"M299.38,-93.18C299.38,-80.95 299.38,-68.4 299.38,-57.72\"/>\n",
       "</g>\n",
       "</g>\n",
       "</svg>"
      ],
      "text/plain": [
       "<IPython.core.display.SVG object>"
      ]
     },
     "metadata": {},
     "output_type": "display_data"
    }
   ],
   "source": [
    "(\n",
    "    lf\n",
    "    .pipe(keep_grass_or_fire)\n",
    "    .pipe(keep_cols)    \n",
    "    .pipe(add_ranks)\n",
    "    .show_graph(streaming=True)\n",
    ")"
   ]
  },
  {
   "cell_type": "markdown",
   "metadata": {},
   "source": [
    "## Testing data quality with cuallee"
   ]
  },
  {
   "cell_type": "markdown",
   "metadata": {},
   "source": [
    "### How to do it..."
   ]
  },
  {
   "cell_type": "code",
   "execution_count": 38,
   "metadata": {},
   "outputs": [],
   "source": [
    "from cuallee import Check, CheckLevel"
   ]
  },
  {
   "cell_type": "code",
   "execution_count": 39,
   "metadata": {},
   "outputs": [
    {
     "data": {
      "text/html": [
       "<div><style>\n",
       ".dataframe > thead > tr,\n",
       ".dataframe > tbody > tr {\n",
       "  text-align: right;\n",
       "  white-space: pre-wrap;\n",
       "}\n",
       "</style>\n",
       "<small>shape: (5, 13)</small><table border=\"1\" class=\"dataframe\"><thead><tr><th>#</th><th>Name</th><th>Type 1</th><th>Type 2</th><th>Total</th><th>HP</th><th>&hellip;</th><th>Defense</th><th>Sp. Atk</th><th>Sp. Def</th><th>Speed</th><th>Generation</th><th>Legendary</th></tr><tr><td>i64</td><td>str</td><td>str</td><td>str</td><td>i64</td><td>i64</td><td>&hellip;</td><td>i64</td><td>i64</td><td>i64</td><td>i64</td><td>i64</td><td>bool</td></tr></thead><tbody><tr><td>1</td><td>&quot;Bulbasaur&quot;</td><td>&quot;Grass&quot;</td><td>&quot;Poison&quot;</td><td>318</td><td>45</td><td>&hellip;</td><td>49</td><td>65</td><td>65</td><td>45</td><td>1</td><td>false</td></tr><tr><td>2</td><td>&quot;Ivysaur&quot;</td><td>&quot;Grass&quot;</td><td>&quot;Poison&quot;</td><td>405</td><td>60</td><td>&hellip;</td><td>63</td><td>80</td><td>80</td><td>60</td><td>1</td><td>false</td></tr><tr><td>3</td><td>&quot;Venusaur&quot;</td><td>&quot;Grass&quot;</td><td>&quot;Poison&quot;</td><td>525</td><td>80</td><td>&hellip;</td><td>83</td><td>100</td><td>100</td><td>80</td><td>1</td><td>false</td></tr><tr><td>3</td><td>&quot;VenusaurMega V…</td><td>&quot;Grass&quot;</td><td>&quot;Poison&quot;</td><td>625</td><td>80</td><td>&hellip;</td><td>123</td><td>122</td><td>120</td><td>80</td><td>1</td><td>false</td></tr><tr><td>4</td><td>&quot;Charmander&quot;</td><td>&quot;Fire&quot;</td><td>null</td><td>309</td><td>39</td><td>&hellip;</td><td>43</td><td>60</td><td>50</td><td>65</td><td>1</td><td>false</td></tr></tbody></table></div>"
      ],
      "text/plain": [
       "shape: (5, 13)\n",
       "┌─────┬────────┬────────┬────────┬───────┬─────┬───┬───────┬───────┬───────┬───────┬───────┬───────┐\n",
       "│ #   ┆ Name   ┆ Type 1 ┆ Type 2 ┆ Total ┆ HP  ┆ … ┆ Defen ┆ Sp.   ┆ Sp.   ┆ Speed ┆ Gener ┆ Legen │\n",
       "│ --- ┆ ---    ┆ ---    ┆ ---    ┆ ---   ┆ --- ┆   ┆ se    ┆ Atk   ┆ Def   ┆ ---   ┆ ation ┆ dary  │\n",
       "│ i64 ┆ str    ┆ str    ┆ str    ┆ i64   ┆ i64 ┆   ┆ ---   ┆ ---   ┆ ---   ┆ i64   ┆ ---   ┆ ---   │\n",
       "│     ┆        ┆        ┆        ┆       ┆     ┆   ┆ i64   ┆ i64   ┆ i64   ┆       ┆ i64   ┆ bool  │\n",
       "╞═════╪════════╪════════╪════════╪═══════╪═════╪═══╪═══════╪═══════╪═══════╪═══════╪═══════╪═══════╡\n",
       "│ 1   ┆ Bulbas ┆ Grass  ┆ Poison ┆ 318   ┆ 45  ┆ … ┆ 49    ┆ 65    ┆ 65    ┆ 45    ┆ 1     ┆ false │\n",
       "│     ┆ aur    ┆        ┆        ┆       ┆     ┆   ┆       ┆       ┆       ┆       ┆       ┆       │\n",
       "│ 2   ┆ Ivysau ┆ Grass  ┆ Poison ┆ 405   ┆ 60  ┆ … ┆ 63    ┆ 80    ┆ 80    ┆ 60    ┆ 1     ┆ false │\n",
       "│     ┆ r      ┆        ┆        ┆       ┆     ┆   ┆       ┆       ┆       ┆       ┆       ┆       │\n",
       "│ 3   ┆ Venusa ┆ Grass  ┆ Poison ┆ 525   ┆ 80  ┆ … ┆ 83    ┆ 100   ┆ 100   ┆ 80    ┆ 1     ┆ false │\n",
       "│     ┆ ur     ┆        ┆        ┆       ┆     ┆   ┆       ┆       ┆       ┆       ┆       ┆       │\n",
       "│ 3   ┆ Venusa ┆ Grass  ┆ Poison ┆ 625   ┆ 80  ┆ … ┆ 123   ┆ 122   ┆ 120   ┆ 80    ┆ 1     ┆ false │\n",
       "│     ┆ urMega ┆        ┆        ┆       ┆     ┆   ┆       ┆       ┆       ┆       ┆       ┆       │\n",
       "│     ┆ Venusa ┆        ┆        ┆       ┆     ┆   ┆       ┆       ┆       ┆       ┆       ┆       │\n",
       "│     ┆ ur     ┆        ┆        ┆       ┆     ┆   ┆       ┆       ┆       ┆       ┆       ┆       │\n",
       "│ 4   ┆ Charma ┆ Fire   ┆ null   ┆ 309   ┆ 39  ┆ … ┆ 43    ┆ 60    ┆ 50    ┆ 65    ┆ 1     ┆ false │\n",
       "│     ┆ nder   ┆        ┆        ┆       ┆     ┆   ┆       ┆       ┆       ┆       ┆       ┆       │\n",
       "└─────┴────────┴────────┴────────┴───────┴─────┴───┴───────┴───────┴───────┴───────┴───────┴───────┘"
      ]
     },
     "execution_count": 39,
     "metadata": {},
     "output_type": "execute_result"
    }
   ],
   "source": [
    "df = lf.collect()\n",
    "df.head()"
   ]
  },
  {
   "cell_type": "code",
   "execution_count": 40,
   "metadata": {},
   "outputs": [
    {
     "data": {
      "text/html": [
       "<div><style>\n",
       ".dataframe > thead > tr,\n",
       ".dataframe > tbody > tr {\n",
       "  text-align: right;\n",
       "  white-space: pre-wrap;\n",
       "}\n",
       "</style>\n",
       "<small>shape: (2, 12)</small><table border=\"1\" class=\"dataframe\"><thead><tr><th>id</th><th>timestamp</th><th>check</th><th>level</th><th>column</th><th>rule</th><th>value</th><th>rows</th><th>violations</th><th>pass_rate</th><th>pass_threshold</th><th>status</th></tr><tr><td>i64</td><td>str</td><td>str</td><td>str</td><td>str</td><td>str</td><td>str</td><td>i64</td><td>i64</td><td>f64</td><td>f64</td><td>str</td></tr></thead><tbody><tr><td>1</td><td>&quot;2024-03-24 20:…</td><td>&quot;Completeness&quot;</td><td>&quot;WARNING&quot;</td><td>&quot;Name&quot;</td><td>&quot;is_complete&quot;</td><td>&quot;N/A&quot;</td><td>163</td><td>0</td><td>1.0</td><td>1.0</td><td>&quot;PASS&quot;</td></tr><tr><td>2</td><td>&quot;2024-03-24 20:…</td><td>&quot;Completeness&quot;</td><td>&quot;WARNING&quot;</td><td>&quot;Name&quot;</td><td>&quot;is_unique&quot;</td><td>&quot;N/A&quot;</td><td>163</td><td>0</td><td>1.0</td><td>1.0</td><td>&quot;PASS&quot;</td></tr></tbody></table></div>"
      ],
      "text/plain": [
       "shape: (2, 12)\n",
       "┌─────┬────────┬────────┬────────┬────────┬────────┬───────┬──────┬────────┬───────┬───────┬───────┐\n",
       "│ id  ┆ timest ┆ check  ┆ level  ┆ column ┆ rule   ┆ value ┆ rows ┆ violat ┆ pass_ ┆ pass_ ┆ statu │\n",
       "│ --- ┆ amp    ┆ ---    ┆ ---    ┆ ---    ┆ ---    ┆ ---   ┆ ---  ┆ ions   ┆ rate  ┆ thres ┆ s     │\n",
       "│ i64 ┆ ---    ┆ str    ┆ str    ┆ str    ┆ str    ┆ str   ┆ i64  ┆ ---    ┆ ---   ┆ hold  ┆ ---   │\n",
       "│     ┆ str    ┆        ┆        ┆        ┆        ┆       ┆      ┆ i64    ┆ f64   ┆ ---   ┆ str   │\n",
       "│     ┆        ┆        ┆        ┆        ┆        ┆       ┆      ┆        ┆       ┆ f64   ┆       │\n",
       "╞═════╪════════╪════════╪════════╪════════╪════════╪═══════╪══════╪════════╪═══════╪═══════╪═══════╡\n",
       "│ 1   ┆ 2024-0 ┆ Comple ┆ WARNIN ┆ Name   ┆ is_com ┆ N/A   ┆ 163  ┆ 0      ┆ 1.0   ┆ 1.0   ┆ PASS  │\n",
       "│     ┆ 3-24   ┆ teness ┆ G      ┆        ┆ plete  ┆       ┆      ┆        ┆       ┆       ┆       │\n",
       "│     ┆ 20:36: ┆        ┆        ┆        ┆        ┆       ┆      ┆        ┆       ┆       ┆       │\n",
       "│     ┆ 56     ┆        ┆        ┆        ┆        ┆       ┆      ┆        ┆       ┆       ┆       │\n",
       "│ 2   ┆ 2024-0 ┆ Comple ┆ WARNIN ┆ Name   ┆ is_uni ┆ N/A   ┆ 163  ┆ 0      ┆ 1.0   ┆ 1.0   ┆ PASS  │\n",
       "│     ┆ 3-24   ┆ teness ┆ G      ┆        ┆ que    ┆       ┆      ┆        ┆       ┆       ┆       │\n",
       "│     ┆ 20:36: ┆        ┆        ┆        ┆        ┆       ┆      ┆        ┆       ┆       ┆       │\n",
       "│     ┆ 56     ┆        ┆        ┆        ┆        ┆       ┆      ┆        ┆       ┆       ┆       │\n",
       "└─────┴────────┴────────┴────────┴────────┴────────┴───────┴──────┴────────┴───────┴───────┴───────┘"
      ]
     },
     "execution_count": 40,
     "metadata": {},
     "output_type": "execute_result"
    }
   ],
   "source": [
    "check = Check(CheckLevel.WARNING, 'Completeness')\n",
    "(\n",
    "    check\n",
    "    .is_complete('Name')\n",
    "    .is_unique('Name')\n",
    "    .validate(df)\n",
    ")"
   ]
  },
  {
   "cell_type": "code",
   "execution_count": 41,
   "metadata": {},
   "outputs": [
    {
     "data": {
      "text/html": [
       "<div><style>\n",
       ".dataframe > thead > tr,\n",
       ".dataframe > tbody > tr {\n",
       "  text-align: right;\n",
       "  white-space: pre-wrap;\n",
       "}\n",
       "</style>\n",
       "<small>shape: (1, 4)</small><table border=\"1\" class=\"dataframe\"><thead><tr><th>check</th><th>column</th><th>rule</th><th>status</th></tr><tr><td>str</td><td>str</td><td>str</td><td>str</td></tr></thead><tbody><tr><td>&quot;Accepted Value…</td><td>&quot;Type 1&quot;</td><td>&quot;is_contained_i…</td><td>&quot;PASS&quot;</td></tr></tbody></table></div>"
      ],
      "text/plain": [
       "shape: (1, 4)\n",
       "┌─────────────────┬────────┬─────────────────┬────────┐\n",
       "│ check           ┆ column ┆ rule            ┆ status │\n",
       "│ ---             ┆ ---    ┆ ---             ┆ ---    │\n",
       "│ str             ┆ str    ┆ str             ┆ str    │\n",
       "╞═════════════════╪════════╪═════════════════╪════════╡\n",
       "│ Accepted Values ┆ Type 1 ┆ is_contained_in ┆ PASS   │\n",
       "└─────────────────┴────────┴─────────────────┴────────┘"
      ]
     },
     "execution_count": 41,
     "metadata": {},
     "output_type": "execute_result"
    }
   ],
   "source": [
    "check = Check(CheckLevel.WARNING, 'Accepted Values')\n",
    "accepted_types = (\n",
    "    lf.select('Type 1')\n",
    "    .unique()\n",
    "    .collect()\n",
    "    .to_series()\n",
    "    .to_list()\n",
    ")\n",
    "\n",
    "(\n",
    "    check\n",
    "    .is_contained_in('Type 1', set(accepted_types))\n",
    "    .validate(df)\n",
    "    .select('check', 'column', 'rule', 'status')\n",
    ")"
   ]
  },
  {
   "cell_type": "code",
   "execution_count": 42,
   "metadata": {},
   "outputs": [
    {
     "data": {
      "text/html": [
       "<div><style>\n",
       ".dataframe > thead > tr,\n",
       ".dataframe > tbody > tr {\n",
       "  text-align: right;\n",
       "  white-space: pre-wrap;\n",
       "}\n",
       "</style>\n",
       "<small>shape: (2, 7)</small><table border=\"1\" class=\"dataframe\"><thead><tr><th>check</th><th>column</th><th>rule</th><th>rows</th><th>violations</th><th>pass_rate</th><th>status</th></tr><tr><td>str</td><td>str</td><td>str</td><td>i64</td><td>i64</td><td>f64</td><td>str</td></tr></thead><tbody><tr><td>&quot;Validation on …</td><td>&quot;(&#x27;HP&#x27;, &#x27;Attack…</td><td>&quot;is_complete&quot;</td><td>163</td><td>0</td><td>1.0</td><td>&quot;PASS&quot;</td></tr><tr><td>&quot;Validation on …</td><td>&quot;(&#x27;HP&#x27;, &#x27;Attack…</td><td>&quot;is_greater_tha…</td><td>163</td><td>0</td><td>1.0</td><td>&quot;PASS&quot;</td></tr></tbody></table></div>"
      ],
      "text/plain": [
       "shape: (2, 7)\n",
       "┌───────────────┬──────────────────┬─────────────────┬──────┬────────────┬───────────┬────────┐\n",
       "│ check         ┆ column           ┆ rule            ┆ rows ┆ violations ┆ pass_rate ┆ status │\n",
       "│ ---           ┆ ---              ┆ ---             ┆ ---  ┆ ---        ┆ ---       ┆ ---    │\n",
       "│ str           ┆ str              ┆ str             ┆ i64  ┆ i64        ┆ f64       ┆ str    │\n",
       "╞═══════════════╪══════════════════╪═════════════════╪══════╪════════════╪═══════════╪════════╡\n",
       "│ Validation on ┆ ('HP', 'Attack', ┆ is_complete     ┆ 163  ┆ 0          ┆ 1.0       ┆ PASS   │\n",
       "│ Stats         ┆ 'Defense', 'Sp.… ┆                 ┆      ┆            ┆           ┆        │\n",
       "│ Validation on ┆ ('HP', 'Attack', ┆ is_greater_than ┆ 163  ┆ 0          ┆ 1.0       ┆ PASS   │\n",
       "│ Stats         ┆ 'Defense', 'Sp.… ┆                 ┆      ┆            ┆           ┆        │\n",
       "└───────────────┴──────────────────┴─────────────────┴──────┴────────────┴───────────┴────────┘"
      ]
     },
     "execution_count": 42,
     "metadata": {},
     "output_type": "execute_result"
    }
   ],
   "source": [
    "check = Check(CheckLevel.WARNING, 'Validation on Stats')\n",
    "stats_cols = [\n",
    "    'HP',\n",
    "    'Attack',\n",
    "    'Defense',\n",
    "    'Sp. Atk',\n",
    "    'Sp. Def',\n",
    "    'Speed'\n",
    "]\n",
    "res_cols = [\n",
    "    'check', \n",
    "    'column', \n",
    "    'rule', \n",
    "    'rows', \n",
    "    'violations', \n",
    "    'pass_rate', \n",
    "    'status'\n",
    "]\n",
    "\n",
    "(\n",
    "    check\n",
    "    .is_complete(stats_cols)\n",
    "    .is_greater_than(stats_cols, 0)\n",
    "    .validate(df)\n",
    "    .select(res_cols)\n",
    ")"
   ]
  },
  {
   "cell_type": "code",
   "execution_count": 43,
   "metadata": {},
   "outputs": [
    {
     "data": {
      "text/html": [
       "<div><style>\n",
       ".dataframe > thead > tr,\n",
       ".dataframe > tbody > tr {\n",
       "  text-align: right;\n",
       "  white-space: pre-wrap;\n",
       "}\n",
       "</style>\n",
       "<small>shape: (2, 7)</small><table border=\"1\" class=\"dataframe\"><thead><tr><th>check</th><th>column</th><th>rule</th><th>rows</th><th>violations</th><th>pass_rate</th><th>status</th></tr><tr><td>str</td><td>str</td><td>str</td><td>i64</td><td>f64</td><td>f64</td><td>str</td></tr></thead><tbody><tr><td>&quot;Completeness&quot;</td><td>&quot;(&#x27;Name&#x27;, &#x27;Type…</td><td>&quot;are_complete&quot;</td><td>163</td><td>28.666667</td><td>0.824131</td><td>&quot;FAIL&quot;</td></tr><tr><td>&quot;Completeness&quot;</td><td>&quot;(&#x27;Name&#x27;, &#x27;Type…</td><td>&quot;are_unique&quot;</td><td>163</td><td>107.666667</td><td>0.339468</td><td>&quot;FAIL&quot;</td></tr></tbody></table></div>"
      ],
      "text/plain": [
       "shape: (2, 7)\n",
       "┌──────────────┬───────────────────────────┬──────────────┬──────┬────────────┬───────────┬────────┐\n",
       "│ check        ┆ column                    ┆ rule         ┆ rows ┆ violations ┆ pass_rate ┆ status │\n",
       "│ ---          ┆ ---                       ┆ ---          ┆ ---  ┆ ---        ┆ ---       ┆ ---    │\n",
       "│ str          ┆ str                       ┆ str          ┆ i64  ┆ f64        ┆ f64       ┆ str    │\n",
       "╞══════════════╪═══════════════════════════╪══════════════╪══════╪════════════╪═══════════╪════════╡\n",
       "│ Completeness ┆ ('Name', 'Type 1', 'Type  ┆ are_complete ┆ 163  ┆ 28.666667  ┆ 0.824131  ┆ FAIL   │\n",
       "│              ┆ 2')                       ┆              ┆      ┆            ┆           ┆        │\n",
       "│ Completeness ┆ ('Name', 'Type 1', 'Type  ┆ are_unique   ┆ 163  ┆ 107.666667 ┆ 0.339468  ┆ FAIL   │\n",
       "│              ┆ 2')                       ┆              ┆      ┆            ┆           ┆        │\n",
       "└──────────────┴───────────────────────────┴──────────────┴──────┴────────────┴───────────┴────────┘"
      ]
     },
     "execution_count": 43,
     "metadata": {},
     "output_type": "execute_result"
    }
   ],
   "source": [
    "check = Check(CheckLevel.WARNING, 'Completeness')\n",
    "cols = ['Name', 'Type 1', 'Type 2']\n",
    "(\n",
    "    check\n",
    "    .are_complete(cols)\n",
    "    .are_unique(cols)\n",
    "    .validate(df)\n",
    "    .select(\n",
    "        'check', \n",
    "        'column', \n",
    "        'rule', \n",
    "        'rows', \n",
    "        'violations', \n",
    "        'pass_rate', \n",
    "        'status'\n",
    "    )\n",
    ")"
   ]
  },
  {
   "cell_type": "markdown",
   "metadata": {},
   "source": [
    "### There is more..."
   ]
  },
  {
   "cell_type": "code",
   "execution_count": 44,
   "metadata": {},
   "outputs": [
    {
     "ename": "AssertionError",
     "evalue": "",
     "output_type": "error",
     "traceback": [
      "\u001b[0;31m---------------------------------------------------------------------------\u001b[0m",
      "\u001b[0;31mAssertionError\u001b[0m                            Traceback (most recent call last)",
      "Cell \u001b[0;32mIn[44], line 8\u001b[0m\n\u001b[1;32m      1\u001b[0m check \u001b[38;5;241m=\u001b[39m Check(CheckLevel\u001b[38;5;241m.\u001b[39mWARNING, \u001b[38;5;124m'\u001b[39m\u001b[38;5;124mCompleteness\u001b[39m\u001b[38;5;124m'\u001b[39m)\n\u001b[1;32m      2\u001b[0m result \u001b[38;5;241m=\u001b[39m (\n\u001b[1;32m      3\u001b[0m     check\n\u001b[1;32m      4\u001b[0m     \u001b[38;5;241m.\u001b[39mis_complete(\u001b[38;5;124m'\u001b[39m\u001b[38;5;124mType 2\u001b[39m\u001b[38;5;124m'\u001b[39m)\n\u001b[1;32m      5\u001b[0m     \u001b[38;5;241m.\u001b[39mvalidate(df)\n\u001b[1;32m      6\u001b[0m     \u001b[38;5;241m.\u001b[39mselect(\u001b[38;5;124m'\u001b[39m\u001b[38;5;124mstatus\u001b[39m\u001b[38;5;124m'\u001b[39m)[\u001b[38;5;241m0\u001b[39m,\u001b[38;5;241m0\u001b[39m]\u001b[38;5;241m==\u001b[39m\u001b[38;5;124m'\u001b[39m\u001b[38;5;124mPASS\u001b[39m\u001b[38;5;124m'\u001b[39m\n\u001b[1;32m      7\u001b[0m )\n\u001b[0;32m----> 8\u001b[0m \u001b[38;5;28;01massert\u001b[39;00m result\n",
      "\u001b[0;31mAssertionError\u001b[0m: "
     ]
    }
   ],
   "source": [
    "check = Check(CheckLevel.WARNING, 'Completeness')\n",
    "result = (\n",
    "    check\n",
    "    .is_complete('Type 2')\n",
    "    .validate(df)\n",
    "    .select('status')[0,0]=='PASS'\n",
    ")\n",
    "assert result"
   ]
  },
  {
   "cell_type": "markdown",
   "metadata": {},
   "source": [
    "## Getting started with Pytest"
   ]
  },
  {
   "cell_type": "markdown",
   "metadata": {},
   "source": [
    "Please refer to `demo.py` and `test_demo.py`"
   ]
  }
 ],
 "metadata": {
  "kernelspec": {
   "display_name": ".venv",
   "language": "python",
   "name": "python3"
  },
  "language_info": {
   "codemirror_mode": {
    "name": "ipython",
    "version": 3
   },
   "file_extension": ".py",
   "mimetype": "text/x-python",
   "name": "python",
   "nbconvert_exporter": "python",
   "pygments_lexer": "ipython3",
   "version": "3.11.3"
  }
 },
 "nbformat": 4,
 "nbformat_minor": 2
}
