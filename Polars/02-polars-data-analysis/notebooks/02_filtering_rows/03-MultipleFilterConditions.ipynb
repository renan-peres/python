{
 "cells": [
  {
   "cell_type": "markdown",
   "id": "b06a7473-8d52-4c0d-b469-37add3272a53",
   "metadata": {},
   "source": [
    "# Filtering rows 3: multiple filter conditions\n",
    "By the end of this lecture you will be able to:\n",
    "- use multiple AND conditions in `filter`\n",
    "- use multiple OR conditions in `filter`\n",
    "- optimise multiple conditions in lazy mode"
   ]
  },
  {
   "cell_type": "code",
   "execution_count": 15,
   "id": "9fd758ec-0727-4c1e-87ae-04fd47b267b6",
   "metadata": {
    "tags": []
   },
   "outputs": [],
   "source": [
    "import polars as pl"
   ]
  },
  {
   "cell_type": "code",
   "execution_count": 16,
   "id": "43c1d48b-a1cc-4374-bfd5-83817c491923",
   "metadata": {
    "tags": []
   },
   "outputs": [],
   "source": [
    "csv_file = \"../data/titanic.csv\""
   ]
  },
  {
   "cell_type": "code",
   "execution_count": 17,
   "id": "44b5ec52-56cc-41a1-a678-5d207dc0ecac",
   "metadata": {},
   "outputs": [],
   "source": [
    "df = pl.read_csv(csv_file)"
   ]
  },
  {
   "cell_type": "markdown",
   "id": "0e928f73-529c-4629-84f8-86cdc7ea135c",
   "metadata": {},
   "source": [
    "## Multiple conditions\n",
    "\n",
    "### Apply `AND` conditions\n",
    "\n",
    "We can apply filter `AND` conditions where all conditions must be met in a number of ways.\n",
    "\n",
    "The first way is to **chaining** multiple calls to `filter`.\n",
    "\n",
    "In this example we keep all first class passengers that are over 70"
   ]
  },
  {
   "cell_type": "code",
   "execution_count": 18,
   "id": "e3f138f1-9c08-467f-ac03-275c64be1d3e",
   "metadata": {},
   "outputs": [
    {
     "data": {
      "text/html": [
       "<div><style>\n",
       ".dataframe > thead > tr,\n",
       ".dataframe > tbody > tr {\n",
       "  text-align: right;\n",
       "  white-space: pre-wrap;\n",
       "}\n",
       "</style>\n",
       "<small>shape: (3, 12)</small><table border=\"1\" class=\"dataframe\"><thead><tr><th>PassengerId</th><th>Survived</th><th>Pclass</th><th>Name</th><th>Sex</th><th>Age</th><th>SibSp</th><th>Parch</th><th>Ticket</th><th>Fare</th><th>Cabin</th><th>Embarked</th></tr><tr><td>i64</td><td>i64</td><td>i64</td><td>str</td><td>str</td><td>f64</td><td>i64</td><td>i64</td><td>str</td><td>f64</td><td>str</td><td>str</td></tr></thead><tbody><tr><td>97</td><td>0</td><td>1</td><td>&quot;Goldschmidt, M…</td><td>&quot;male&quot;</td><td>71.0</td><td>0</td><td>0</td><td>&quot;PC 17754&quot;</td><td>34.6542</td><td>&quot;A5&quot;</td><td>&quot;C&quot;</td></tr><tr><td>494</td><td>0</td><td>1</td><td>&quot;Artagaveytia, …</td><td>&quot;male&quot;</td><td>71.0</td><td>0</td><td>0</td><td>&quot;PC 17609&quot;</td><td>49.5042</td><td>null</td><td>&quot;C&quot;</td></tr><tr><td>631</td><td>1</td><td>1</td><td>&quot;Barkworth, Mr.…</td><td>&quot;male&quot;</td><td>80.0</td><td>0</td><td>0</td><td>&quot;27042&quot;</td><td>30.0</td><td>&quot;A23&quot;</td><td>&quot;S&quot;</td></tr></tbody></table></div>"
      ],
      "text/plain": [
       "shape: (3, 12)\n",
       "┌─────────────┬──────────┬────────┬────────────────────┬───┬──────────┬─────────┬───────┬──────────┐\n",
       "│ PassengerId ┆ Survived ┆ Pclass ┆ Name               ┆ … ┆ Ticket   ┆ Fare    ┆ Cabin ┆ Embarked │\n",
       "│ ---         ┆ ---      ┆ ---    ┆ ---                ┆   ┆ ---      ┆ ---     ┆ ---   ┆ ---      │\n",
       "│ i64         ┆ i64      ┆ i64    ┆ str                ┆   ┆ str      ┆ f64     ┆ str   ┆ str      │\n",
       "╞═════════════╪══════════╪════════╪════════════════════╪═══╪══════════╪═════════╪═══════╪══════════╡\n",
       "│ 97          ┆ 0        ┆ 1      ┆ Goldschmidt, Mr.   ┆ … ┆ PC 17754 ┆ 34.6542 ┆ A5    ┆ C        │\n",
       "│             ┆          ┆        ┆ George B           ┆   ┆          ┆         ┆       ┆          │\n",
       "│ 494         ┆ 0        ┆ 1      ┆ Artagaveytia, Mr.  ┆ … ┆ PC 17609 ┆ 49.5042 ┆ null  ┆ C        │\n",
       "│             ┆          ┆        ┆ Ramon              ┆   ┆          ┆         ┆       ┆          │\n",
       "│ 631         ┆ 1        ┆ 1      ┆ Barkworth, Mr.     ┆ … ┆ 27042    ┆ 30.0    ┆ A23   ┆ S        │\n",
       "│             ┆          ┆        ┆ Algernon Henry Wi… ┆   ┆          ┆         ┆       ┆          │\n",
       "└─────────────┴──────────┴────────┴────────────────────┴───┴──────────┴─────────┴───────┴──────────┘"
      ]
     },
     "execution_count": 18,
     "metadata": {},
     "output_type": "execute_result"
    }
   ],
   "source": [
    "(\n",
    "    df\n",
    "    .filter(\n",
    "        Pclass = 1\n",
    "    )\n",
    "    .filter(\n",
    "        pl.col('Age') > 70\n",
    "    )\n",
    "    .head(3)\n",
    ")"
   ]
  },
  {
   "cell_type": "markdown",
   "id": "63553e25-92e5-4023-b6c6-555c4aaa01da",
   "metadata": {},
   "source": [
    "In eager mode chaining is inefficient. For each call to `filter` Polars has to do a full pass through the rows of the `DataFrame`. It is better to combine everything into a single condition \n",
    "\n",
    "One way to do this is to **concatenate** multiple `AND` conditions in a single `filter` call using `&`"
   ]
  },
  {
   "cell_type": "code",
   "execution_count": 19,
   "id": "1d8ac535-9d42-48c1-8d15-6c77518195b0",
   "metadata": {},
   "outputs": [
    {
     "data": {
      "text/html": [
       "<div><style>\n",
       ".dataframe > thead > tr,\n",
       ".dataframe > tbody > tr {\n",
       "  text-align: right;\n",
       "  white-space: pre-wrap;\n",
       "}\n",
       "</style>\n",
       "<small>shape: (2, 12)</small><table border=\"1\" class=\"dataframe\"><thead><tr><th>PassengerId</th><th>Survived</th><th>Pclass</th><th>Name</th><th>Sex</th><th>Age</th><th>SibSp</th><th>Parch</th><th>Ticket</th><th>Fare</th><th>Cabin</th><th>Embarked</th></tr><tr><td>i64</td><td>i64</td><td>i64</td><td>str</td><td>str</td><td>f64</td><td>i64</td><td>i64</td><td>str</td><td>f64</td><td>str</td><td>str</td></tr></thead><tbody><tr><td>97</td><td>0</td><td>1</td><td>&quot;Goldschmidt, M…</td><td>&quot;male&quot;</td><td>71.0</td><td>0</td><td>0</td><td>&quot;PC 17754&quot;</td><td>34.6542</td><td>&quot;A5&quot;</td><td>&quot;C&quot;</td></tr><tr><td>494</td><td>0</td><td>1</td><td>&quot;Artagaveytia, …</td><td>&quot;male&quot;</td><td>71.0</td><td>0</td><td>0</td><td>&quot;PC 17609&quot;</td><td>49.5042</td><td>null</td><td>&quot;C&quot;</td></tr></tbody></table></div>"
      ],
      "text/plain": [
       "shape: (2, 12)\n",
       "┌─────────────┬──────────┬────────┬────────────────────┬───┬──────────┬─────────┬───────┬──────────┐\n",
       "│ PassengerId ┆ Survived ┆ Pclass ┆ Name               ┆ … ┆ Ticket   ┆ Fare    ┆ Cabin ┆ Embarked │\n",
       "│ ---         ┆ ---      ┆ ---    ┆ ---                ┆   ┆ ---      ┆ ---     ┆ ---   ┆ ---      │\n",
       "│ i64         ┆ i64      ┆ i64    ┆ str                ┆   ┆ str      ┆ f64     ┆ str   ┆ str      │\n",
       "╞═════════════╪══════════╪════════╪════════════════════╪═══╪══════════╪═════════╪═══════╪══════════╡\n",
       "│ 97          ┆ 0        ┆ 1      ┆ Goldschmidt, Mr.   ┆ … ┆ PC 17754 ┆ 34.6542 ┆ A5    ┆ C        │\n",
       "│             ┆          ┆        ┆ George B           ┆   ┆          ┆         ┆       ┆          │\n",
       "│ 494         ┆ 0        ┆ 1      ┆ Artagaveytia, Mr.  ┆ … ┆ PC 17609 ┆ 49.5042 ┆ null  ┆ C        │\n",
       "│             ┆          ┆        ┆ Ramon              ┆   ┆          ┆         ┆       ┆          │\n",
       "└─────────────┴──────────┴────────┴────────────────────┴───┴──────────┴─────────┴───────┴──────────┘"
      ]
     },
     "execution_count": 19,
     "metadata": {},
     "output_type": "execute_result"
    }
   ],
   "source": [
    "(\n",
    "    df\n",
    "    .filter(\n",
    "        (pl.col('Age') > 70) & (pl.col('Pclass') == 1)\n",
    "    )\n",
    "    .head(2)\n",
    ")"
   ]
  },
  {
   "cell_type": "markdown",
   "id": "812e9ed3-87d5-44fb-b033-e122dab4e6d9",
   "metadata": {},
   "source": [
    "There is a less verbose way to do this by passing the predicates as a comma-separated list of expressions"
   ]
  },
  {
   "cell_type": "code",
   "execution_count": 20,
   "id": "efe2a9a8-983c-4747-b69f-cf03326e8a19",
   "metadata": {},
   "outputs": [
    {
     "data": {
      "text/html": [
       "<div><style>\n",
       ".dataframe > thead > tr,\n",
       ".dataframe > tbody > tr {\n",
       "  text-align: right;\n",
       "  white-space: pre-wrap;\n",
       "}\n",
       "</style>\n",
       "<small>shape: (2, 12)</small><table border=\"1\" class=\"dataframe\"><thead><tr><th>PassengerId</th><th>Survived</th><th>Pclass</th><th>Name</th><th>Sex</th><th>Age</th><th>SibSp</th><th>Parch</th><th>Ticket</th><th>Fare</th><th>Cabin</th><th>Embarked</th></tr><tr><td>i64</td><td>i64</td><td>i64</td><td>str</td><td>str</td><td>f64</td><td>i64</td><td>i64</td><td>str</td><td>f64</td><td>str</td><td>str</td></tr></thead><tbody><tr><td>97</td><td>0</td><td>1</td><td>&quot;Goldschmidt, M…</td><td>&quot;male&quot;</td><td>71.0</td><td>0</td><td>0</td><td>&quot;PC 17754&quot;</td><td>34.6542</td><td>&quot;A5&quot;</td><td>&quot;C&quot;</td></tr><tr><td>494</td><td>0</td><td>1</td><td>&quot;Artagaveytia, …</td><td>&quot;male&quot;</td><td>71.0</td><td>0</td><td>0</td><td>&quot;PC 17609&quot;</td><td>49.5042</td><td>null</td><td>&quot;C&quot;</td></tr></tbody></table></div>"
      ],
      "text/plain": [
       "shape: (2, 12)\n",
       "┌─────────────┬──────────┬────────┬────────────────────┬───┬──────────┬─────────┬───────┬──────────┐\n",
       "│ PassengerId ┆ Survived ┆ Pclass ┆ Name               ┆ … ┆ Ticket   ┆ Fare    ┆ Cabin ┆ Embarked │\n",
       "│ ---         ┆ ---      ┆ ---    ┆ ---                ┆   ┆ ---      ┆ ---     ┆ ---   ┆ ---      │\n",
       "│ i64         ┆ i64      ┆ i64    ┆ str                ┆   ┆ str      ┆ f64     ┆ str   ┆ str      │\n",
       "╞═════════════╪══════════╪════════╪════════════════════╪═══╪══════════╪═════════╪═══════╪══════════╡\n",
       "│ 97          ┆ 0        ┆ 1      ┆ Goldschmidt, Mr.   ┆ … ┆ PC 17754 ┆ 34.6542 ┆ A5    ┆ C        │\n",
       "│             ┆          ┆        ┆ George B           ┆   ┆          ┆         ┆       ┆          │\n",
       "│ 494         ┆ 0        ┆ 1      ┆ Artagaveytia, Mr.  ┆ … ┆ PC 17609 ┆ 49.5042 ┆ null  ┆ C        │\n",
       "│             ┆          ┆        ┆ Ramon              ┆   ┆          ┆         ┆       ┆          │\n",
       "└─────────────┴──────────┴────────┴────────────────────┴───┴──────────┴─────────┴───────┴──────────┘"
      ]
     },
     "execution_count": 20,
     "metadata": {},
     "output_type": "execute_result"
    }
   ],
   "source": [
    "(\n",
    "    df\n",
    "    .filter(\n",
    "        pl.col(\"Pclass\") == 1,\n",
    "        pl.col(\"Age\") > 70\n",
    "    )\n",
    "    .head(2)\n",
    ")"
   ]
  },
  {
   "cell_type": "markdown",
   "id": "a5d6da1f-b6d7-454f-8840-82631e47da58",
   "metadata": {},
   "source": [
    "If we are applying multiple *equality* conditions we can do this with keywords (note the single `=` in this format)"
   ]
  },
  {
   "cell_type": "code",
   "execution_count": 21,
   "id": "aca48db4-a4de-4d6a-97e9-da4b90bdde0e",
   "metadata": {},
   "outputs": [
    {
     "data": {
      "text/html": [
       "<div><style>\n",
       ".dataframe > thead > tr,\n",
       ".dataframe > tbody > tr {\n",
       "  text-align: right;\n",
       "  white-space: pre-wrap;\n",
       "}\n",
       "</style>\n",
       "<small>shape: (1, 12)</small><table border=\"1\" class=\"dataframe\"><thead><tr><th>PassengerId</th><th>Survived</th><th>Pclass</th><th>Name</th><th>Sex</th><th>Age</th><th>SibSp</th><th>Parch</th><th>Ticket</th><th>Fare</th><th>Cabin</th><th>Embarked</th></tr><tr><td>i64</td><td>i64</td><td>i64</td><td>str</td><td>str</td><td>f64</td><td>i64</td><td>i64</td><td>str</td><td>f64</td><td>str</td><td>str</td></tr></thead><tbody><tr><td>746</td><td>0</td><td>1</td><td>&quot;Crosby, Capt. …</td><td>&quot;male&quot;</td><td>70.0</td><td>1</td><td>1</td><td>&quot;WE/P 5735&quot;</td><td>71.0</td><td>&quot;B22&quot;</td><td>&quot;S&quot;</td></tr></tbody></table></div>"
      ],
      "text/plain": [
       "shape: (1, 12)\n",
       "┌─────────────┬──────────┬────────┬──────────────────────┬───┬───────────┬──────┬───────┬──────────┐\n",
       "│ PassengerId ┆ Survived ┆ Pclass ┆ Name                 ┆ … ┆ Ticket    ┆ Fare ┆ Cabin ┆ Embarked │\n",
       "│ ---         ┆ ---      ┆ ---    ┆ ---                  ┆   ┆ ---       ┆ ---  ┆ ---   ┆ ---      │\n",
       "│ i64         ┆ i64      ┆ i64    ┆ str                  ┆   ┆ str       ┆ f64  ┆ str   ┆ str      │\n",
       "╞═════════════╪══════════╪════════╪══════════════════════╪═══╪═══════════╪══════╪═══════╪══════════╡\n",
       "│ 746         ┆ 0        ┆ 1      ┆ Crosby, Capt. Edward ┆ … ┆ WE/P 5735 ┆ 71.0 ┆ B22   ┆ S        │\n",
       "│             ┆          ┆        ┆ Gifford              ┆   ┆           ┆      ┆       ┆          │\n",
       "└─────────────┴──────────┴────────┴──────────────────────┴───┴───────────┴──────┴───────┴──────────┘"
      ]
     },
     "execution_count": 21,
     "metadata": {},
     "output_type": "execute_result"
    }
   ],
   "source": [
    "(\n",
    "    df\n",
    "    .filter(\n",
    "        Pclass = 1,\n",
    "        Age = 70\n",
    "    )\n",
    ")"
   ]
  },
  {
   "cell_type": "markdown",
   "id": "5f5b53f8-5875-4870-868f-ecd22693ff4c",
   "metadata": {},
   "source": [
    "### Apply an AND condition using `pl.all_horizontal`\n",
    "Specifying multiple conditions in chained `filters` or using `&` is fine when we have a small number of conditions to apply. However, we can use the `pl.all_horizontal` method when we want to apply an AND condition on many columns.\n",
    "\n",
    "> The methods above with a comma-separate list of conditions are equivalent to `pl.all_horizontal`\n",
    "\n",
    "In this example we:\n",
    "- first call `pl.all().is_not_null()` to create a Boolean `DataFrame` where each call is True if the underlying value is not `null`\n",
    "- then call `pl.all_horizontal` to find rows where all values are `True` (i.e. all values are not `null`)"
   ]
  },
  {
   "cell_type": "code",
   "execution_count": 22,
   "id": "e576b93c-2852-4748-9c25-c6d1c0dfaaf8",
   "metadata": {},
   "outputs": [
    {
     "data": {
      "text/html": [
       "<div><style>\n",
       ".dataframe > thead > tr,\n",
       ".dataframe > tbody > tr {\n",
       "  text-align: right;\n",
       "  white-space: pre-wrap;\n",
       "}\n",
       "</style>\n",
       "<small>shape: (2, 12)</small><table border=\"1\" class=\"dataframe\"><thead><tr><th>PassengerId</th><th>Survived</th><th>Pclass</th><th>Name</th><th>Sex</th><th>Age</th><th>SibSp</th><th>Parch</th><th>Ticket</th><th>Fare</th><th>Cabin</th><th>Embarked</th></tr><tr><td>i64</td><td>i64</td><td>i64</td><td>str</td><td>str</td><td>f64</td><td>i64</td><td>i64</td><td>str</td><td>f64</td><td>str</td><td>str</td></tr></thead><tbody><tr><td>2</td><td>1</td><td>1</td><td>&quot;Cumings, Mrs. …</td><td>&quot;female&quot;</td><td>38.0</td><td>1</td><td>0</td><td>&quot;PC 17599&quot;</td><td>71.2833</td><td>&quot;C85&quot;</td><td>&quot;C&quot;</td></tr><tr><td>4</td><td>1</td><td>1</td><td>&quot;Futrelle, Mrs.…</td><td>&quot;female&quot;</td><td>35.0</td><td>1</td><td>0</td><td>&quot;113803&quot;</td><td>53.1</td><td>&quot;C123&quot;</td><td>&quot;S&quot;</td></tr></tbody></table></div>"
      ],
      "text/plain": [
       "shape: (2, 12)\n",
       "┌─────────────┬──────────┬────────┬────────────────────┬───┬──────────┬─────────┬───────┬──────────┐\n",
       "│ PassengerId ┆ Survived ┆ Pclass ┆ Name               ┆ … ┆ Ticket   ┆ Fare    ┆ Cabin ┆ Embarked │\n",
       "│ ---         ┆ ---      ┆ ---    ┆ ---                ┆   ┆ ---      ┆ ---     ┆ ---   ┆ ---      │\n",
       "│ i64         ┆ i64      ┆ i64    ┆ str                ┆   ┆ str      ┆ f64     ┆ str   ┆ str      │\n",
       "╞═════════════╪══════════╪════════╪════════════════════╪═══╪══════════╪═════════╪═══════╪══════════╡\n",
       "│ 2           ┆ 1        ┆ 1      ┆ Cumings, Mrs. John ┆ … ┆ PC 17599 ┆ 71.2833 ┆ C85   ┆ C        │\n",
       "│             ┆          ┆        ┆ Bradley (Flor…     ┆   ┆          ┆         ┆       ┆          │\n",
       "│ 4           ┆ 1        ┆ 1      ┆ Futrelle, Mrs.     ┆ … ┆ 113803   ┆ 53.1    ┆ C123  ┆ S        │\n",
       "│             ┆          ┆        ┆ Jacques Heath (Li… ┆   ┆          ┆         ┆       ┆          │\n",
       "└─────────────┴──────────┴────────┴────────────────────┴───┴──────────┴─────────┴───────┴──────────┘"
      ]
     },
     "execution_count": 22,
     "metadata": {},
     "output_type": "execute_result"
    }
   ],
   "source": [
    "(\n",
    "    df\n",
    "    .filter(\n",
    "        pl.all_horizontal(\n",
    "            pl.all().is_not_null()\n",
    "        )\n",
    "    )\n",
    "    .head(2)\n",
    ")"
   ]
  },
  {
   "cell_type": "markdown",
   "id": "313624e3-741e-4044-8c10-a5343624c262",
   "metadata": {},
   "source": [
    "### Apply `AND` condition on a range\n",
    "\n",
    "We use `in_between` to apply a condition on a range. In this case we are looking for values **greater than or equal to** 10 and **less than or equal to** 13"
   ]
  },
  {
   "cell_type": "code",
   "execution_count": 23,
   "id": "2bd4617e-21ea-4238-bf70-afcafa84cdf0",
   "metadata": {},
   "outputs": [
    {
     "data": {
      "text/html": [
       "<div><style>\n",
       ".dataframe > thead > tr,\n",
       ".dataframe > tbody > tr {\n",
       "  text-align: right;\n",
       "  white-space: pre-wrap;\n",
       "}\n",
       "</style>\n",
       "<small>shape: (2, 12)</small><table border=\"1\" class=\"dataframe\"><thead><tr><th>PassengerId</th><th>Survived</th><th>Pclass</th><th>Name</th><th>Sex</th><th>Age</th><th>SibSp</th><th>Parch</th><th>Ticket</th><th>Fare</th><th>Cabin</th><th>Embarked</th></tr><tr><td>i64</td><td>i64</td><td>i64</td><td>str</td><td>str</td><td>f64</td><td>i64</td><td>i64</td><td>str</td><td>f64</td><td>str</td><td>str</td></tr></thead><tbody><tr><td>60</td><td>0</td><td>3</td><td>&quot;Goodwin, Maste…</td><td>&quot;male&quot;</td><td>11.0</td><td>5</td><td>2</td><td>&quot;CA 2144&quot;</td><td>46.9</td><td>null</td><td>&quot;S&quot;</td></tr><tr><td>126</td><td>1</td><td>3</td><td>&quot;Nicola-Yarred,…</td><td>&quot;male&quot;</td><td>12.0</td><td>1</td><td>0</td><td>&quot;2651&quot;</td><td>11.2417</td><td>null</td><td>&quot;C&quot;</td></tr></tbody></table></div>"
      ],
      "text/plain": [
       "shape: (2, 12)\n",
       "┌─────────────┬──────────┬────────┬──────────────────┬───┬─────────┬─────────┬───────┬──────────┐\n",
       "│ PassengerId ┆ Survived ┆ Pclass ┆ Name             ┆ … ┆ Ticket  ┆ Fare    ┆ Cabin ┆ Embarked │\n",
       "│ ---         ┆ ---      ┆ ---    ┆ ---              ┆   ┆ ---     ┆ ---     ┆ ---   ┆ ---      │\n",
       "│ i64         ┆ i64      ┆ i64    ┆ str              ┆   ┆ str     ┆ f64     ┆ str   ┆ str      │\n",
       "╞═════════════╪══════════╪════════╪══════════════════╪═══╪═════════╪═════════╪═══════╪══════════╡\n",
       "│ 60          ┆ 0        ┆ 3      ┆ Goodwin, Master. ┆ … ┆ CA 2144 ┆ 46.9    ┆ null  ┆ S        │\n",
       "│             ┆          ┆        ┆ William Frederi… ┆   ┆         ┆         ┆       ┆          │\n",
       "│ 126         ┆ 1        ┆ 3      ┆ Nicola-Yarred,   ┆ … ┆ 2651    ┆ 11.2417 ┆ null  ┆ C        │\n",
       "│             ┆          ┆        ┆ Master. Elias    ┆   ┆         ┆         ┆       ┆          │\n",
       "└─────────────┴──────────┴────────┴──────────────────┴───┴─────────┴─────────┴───────┴──────────┘"
      ]
     },
     "execution_count": 23,
     "metadata": {},
     "output_type": "execute_result"
    }
   ],
   "source": [
    "(\n",
    "    df\n",
    "    .filter(\n",
    "        pl.col(\"Age\").is_between(10,13)\n",
    "    )\n",
    "    .head(2)\n",
    ")"
   ]
  },
  {
   "cell_type": "markdown",
   "id": "142675e8-a439-4029-bb97-360aba0339ef",
   "metadata": {},
   "source": [
    "We use the `closed` argument to specify if we want the range to be open, closed on both sides or open on the left or right. The default is for the range to be closed (with a value of `\"both\"`). \n",
    "\n",
    "In this example we are looking for values from 10 to 13 exclusive of the boundaries"
   ]
  },
  {
   "cell_type": "code",
   "execution_count": 24,
   "id": "a2b79193-d329-4486-93b1-d4e4199630c5",
   "metadata": {},
   "outputs": [
    {
     "data": {
      "text/html": [
       "<div><style>\n",
       ".dataframe > thead > tr,\n",
       ".dataframe > tbody > tr {\n",
       "  text-align: right;\n",
       "  white-space: pre-wrap;\n",
       "}\n",
       "</style>\n",
       "<small>shape: (2, 12)</small><table border=\"1\" class=\"dataframe\"><thead><tr><th>PassengerId</th><th>Survived</th><th>Pclass</th><th>Name</th><th>Sex</th><th>Age</th><th>SibSp</th><th>Parch</th><th>Ticket</th><th>Fare</th><th>Cabin</th><th>Embarked</th></tr><tr><td>i64</td><td>i64</td><td>i64</td><td>str</td><td>str</td><td>f64</td><td>i64</td><td>i64</td><td>str</td><td>f64</td><td>str</td><td>str</td></tr></thead><tbody><tr><td>60</td><td>0</td><td>3</td><td>&quot;Goodwin, Maste…</td><td>&quot;male&quot;</td><td>11.0</td><td>5</td><td>2</td><td>&quot;CA 2144&quot;</td><td>46.9</td><td>null</td><td>&quot;S&quot;</td></tr><tr><td>126</td><td>1</td><td>3</td><td>&quot;Nicola-Yarred,…</td><td>&quot;male&quot;</td><td>12.0</td><td>1</td><td>0</td><td>&quot;2651&quot;</td><td>11.2417</td><td>null</td><td>&quot;C&quot;</td></tr></tbody></table></div>"
      ],
      "text/plain": [
       "shape: (2, 12)\n",
       "┌─────────────┬──────────┬────────┬──────────────────┬───┬─────────┬─────────┬───────┬──────────┐\n",
       "│ PassengerId ┆ Survived ┆ Pclass ┆ Name             ┆ … ┆ Ticket  ┆ Fare    ┆ Cabin ┆ Embarked │\n",
       "│ ---         ┆ ---      ┆ ---    ┆ ---              ┆   ┆ ---     ┆ ---     ┆ ---   ┆ ---      │\n",
       "│ i64         ┆ i64      ┆ i64    ┆ str              ┆   ┆ str     ┆ f64     ┆ str   ┆ str      │\n",
       "╞═════════════╪══════════╪════════╪══════════════════╪═══╪═════════╪═════════╪═══════╪══════════╡\n",
       "│ 60          ┆ 0        ┆ 3      ┆ Goodwin, Master. ┆ … ┆ CA 2144 ┆ 46.9    ┆ null  ┆ S        │\n",
       "│             ┆          ┆        ┆ William Frederi… ┆   ┆         ┆         ┆       ┆          │\n",
       "│ 126         ┆ 1        ┆ 3      ┆ Nicola-Yarred,   ┆ … ┆ 2651    ┆ 11.2417 ┆ null  ┆ C        │\n",
       "│             ┆          ┆        ┆ Master. Elias    ┆   ┆         ┆         ┆       ┆          │\n",
       "└─────────────┴──────────┴────────┴──────────────────┴───┴─────────┴─────────┴───────┴──────────┘"
      ]
     },
     "execution_count": 24,
     "metadata": {},
     "output_type": "execute_result"
    }
   ],
   "source": [
    "(\n",
    "    df\n",
    "    .filter(\n",
    "        pl.col(\"Age\").is_between(10,13,closed=\"none\")\n",
    "    )\n",
    "    .head(2)\n",
    ")"
   ]
  },
  {
   "cell_type": "markdown",
   "id": "bbe05c69-50e9-46fe-8553-60a81e80dbe4",
   "metadata": {},
   "source": [
    "### Apply `OR` conditions\n",
    "\n",
    "We can apply an OR filter using the pipe `|` operator.\n",
    "\n",
    "In this example we look for rows where the passenger is over 70 OR the passenger is in first class"
   ]
  },
  {
   "cell_type": "code",
   "execution_count": 25,
   "id": "98c1b23a-0c92-4792-b81c-58b81b018c40",
   "metadata": {},
   "outputs": [
    {
     "data": {
      "text/html": [
       "<div><style>\n",
       ".dataframe > thead > tr,\n",
       ".dataframe > tbody > tr {\n",
       "  text-align: right;\n",
       "  white-space: pre-wrap;\n",
       "}\n",
       "</style>\n",
       "<small>shape: (2, 12)</small><table border=\"1\" class=\"dataframe\"><thead><tr><th>PassengerId</th><th>Survived</th><th>Pclass</th><th>Name</th><th>Sex</th><th>Age</th><th>SibSp</th><th>Parch</th><th>Ticket</th><th>Fare</th><th>Cabin</th><th>Embarked</th></tr><tr><td>i64</td><td>i64</td><td>i64</td><td>str</td><td>str</td><td>f64</td><td>i64</td><td>i64</td><td>str</td><td>f64</td><td>str</td><td>str</td></tr></thead><tbody><tr><td>2</td><td>1</td><td>1</td><td>&quot;Cumings, Mrs. …</td><td>&quot;female&quot;</td><td>38.0</td><td>1</td><td>0</td><td>&quot;PC 17599&quot;</td><td>71.2833</td><td>&quot;C85&quot;</td><td>&quot;C&quot;</td></tr><tr><td>4</td><td>1</td><td>1</td><td>&quot;Futrelle, Mrs.…</td><td>&quot;female&quot;</td><td>35.0</td><td>1</td><td>0</td><td>&quot;113803&quot;</td><td>53.1</td><td>&quot;C123&quot;</td><td>&quot;S&quot;</td></tr></tbody></table></div>"
      ],
      "text/plain": [
       "shape: (2, 12)\n",
       "┌─────────────┬──────────┬────────┬────────────────────┬───┬──────────┬─────────┬───────┬──────────┐\n",
       "│ PassengerId ┆ Survived ┆ Pclass ┆ Name               ┆ … ┆ Ticket   ┆ Fare    ┆ Cabin ┆ Embarked │\n",
       "│ ---         ┆ ---      ┆ ---    ┆ ---                ┆   ┆ ---      ┆ ---     ┆ ---   ┆ ---      │\n",
       "│ i64         ┆ i64      ┆ i64    ┆ str                ┆   ┆ str      ┆ f64     ┆ str   ┆ str      │\n",
       "╞═════════════╪══════════╪════════╪════════════════════╪═══╪══════════╪═════════╪═══════╪══════════╡\n",
       "│ 2           ┆ 1        ┆ 1      ┆ Cumings, Mrs. John ┆ … ┆ PC 17599 ┆ 71.2833 ┆ C85   ┆ C        │\n",
       "│             ┆          ┆        ┆ Bradley (Flor…     ┆   ┆          ┆         ┆       ┆          │\n",
       "│ 4           ┆ 1        ┆ 1      ┆ Futrelle, Mrs.     ┆ … ┆ 113803   ┆ 53.1    ┆ C123  ┆ S        │\n",
       "│             ┆          ┆        ┆ Jacques Heath (Li… ┆   ┆          ┆         ┆       ┆          │\n",
       "└─────────────┴──────────┴────────┴────────────────────┴───┴──────────┴─────────┴───────┴──────────┘"
      ]
     },
     "execution_count": 25,
     "metadata": {},
     "output_type": "execute_result"
    }
   ],
   "source": [
    "(\n",
    "    df\n",
    "    .filter(\n",
    "        (pl.col('Age') > 70) | (pl.col('Pclass') == 1)\n",
    "    )\n",
    "    .head(2)\n",
    ")"
   ]
  },
  {
   "cell_type": "markdown",
   "id": "5a3ea955-8860-4465-960d-d5870c89a5e5",
   "metadata": {},
   "source": [
    "One kind of OR condition is when we want to check if a row is equal to any value in a `list`. We can do this with `is_in`"
   ]
  },
  {
   "cell_type": "code",
   "execution_count": 26,
   "id": "e4df1f4a-d817-4fc2-b686-b10d796a99b6",
   "metadata": {},
   "outputs": [
    {
     "data": {
      "text/html": [
       "<div><style>\n",
       ".dataframe > thead > tr,\n",
       ".dataframe > tbody > tr {\n",
       "  text-align: right;\n",
       "  white-space: pre-wrap;\n",
       "}\n",
       "</style>\n",
       "<small>shape: (3, 12)</small><table border=\"1\" class=\"dataframe\"><thead><tr><th>PassengerId</th><th>Survived</th><th>Pclass</th><th>Name</th><th>Sex</th><th>Age</th><th>SibSp</th><th>Parch</th><th>Ticket</th><th>Fare</th><th>Cabin</th><th>Embarked</th></tr><tr><td>i64</td><td>i64</td><td>i64</td><td>str</td><td>str</td><td>f64</td><td>i64</td><td>i64</td><td>str</td><td>f64</td><td>str</td><td>str</td></tr></thead><tbody><tr><td>1</td><td>0</td><td>3</td><td>&quot;Braund, Mr. Ow…</td><td>&quot;male&quot;</td><td>22.0</td><td>1</td><td>0</td><td>&quot;A/5 21171&quot;</td><td>7.25</td><td>null</td><td>&quot;S&quot;</td></tr><tr><td>3</td><td>1</td><td>3</td><td>&quot;Heikkinen, Mis…</td><td>&quot;female&quot;</td><td>26.0</td><td>0</td><td>0</td><td>&quot;STON/O2. 31012…</td><td>7.925</td><td>null</td><td>&quot;S&quot;</td></tr><tr><td>5</td><td>0</td><td>3</td><td>&quot;Allen, Mr. Wil…</td><td>&quot;male&quot;</td><td>35.0</td><td>0</td><td>0</td><td>&quot;373450&quot;</td><td>8.05</td><td>null</td><td>&quot;S&quot;</td></tr></tbody></table></div>"
      ],
      "text/plain": [
       "shape: (3, 12)\n",
       "┌─────────────┬──────────┬────────┬─────────────────────┬───┬───────────┬───────┬───────┬──────────┐\n",
       "│ PassengerId ┆ Survived ┆ Pclass ┆ Name                ┆ … ┆ Ticket    ┆ Fare  ┆ Cabin ┆ Embarked │\n",
       "│ ---         ┆ ---      ┆ ---    ┆ ---                 ┆   ┆ ---       ┆ ---   ┆ ---   ┆ ---      │\n",
       "│ i64         ┆ i64      ┆ i64    ┆ str                 ┆   ┆ str       ┆ f64   ┆ str   ┆ str      │\n",
       "╞═════════════╪══════════╪════════╪═════════════════════╪═══╪═══════════╪═══════╪═══════╪══════════╡\n",
       "│ 1           ┆ 0        ┆ 3      ┆ Braund, Mr. Owen    ┆ … ┆ A/5 21171 ┆ 7.25  ┆ null  ┆ S        │\n",
       "│             ┆          ┆        ┆ Harris              ┆   ┆           ┆       ┆       ┆          │\n",
       "│ 3           ┆ 1        ┆ 3      ┆ Heikkinen, Miss.    ┆ … ┆ STON/O2.  ┆ 7.925 ┆ null  ┆ S        │\n",
       "│             ┆          ┆        ┆ Laina               ┆   ┆ 3101282   ┆       ┆       ┆          │\n",
       "│ 5           ┆ 0        ┆ 3      ┆ Allen, Mr. William  ┆ … ┆ 373450    ┆ 8.05  ┆ null  ┆ S        │\n",
       "│             ┆          ┆        ┆ Henry               ┆   ┆           ┆       ┆       ┆          │\n",
       "└─────────────┴──────────┴────────┴─────────────────────┴───┴───────────┴───────┴───────┴──────────┘"
      ]
     },
     "execution_count": 26,
     "metadata": {},
     "output_type": "execute_result"
    }
   ],
   "source": [
    "(\n",
    "    df\n",
    "    .filter(\n",
    "        pl.col('Pclass').is_in([2,3])\n",
    "    )\n",
    "    .head(3)\n",
    ")"
   ]
  },
  {
   "cell_type": "markdown",
   "id": "3403a930-5f11-459f-bef1-e0220dbf7c11",
   "metadata": {},
   "source": [
    "### Multiple conditions in lazy mode\n",
    "In *lazy mode* if we pass multiple `filter` calls then the query optimizer combines these into a *single condition* inside `SELECTION`.\n",
    "\n",
    "In this example we filter for first class passengers over the age of 70."
   ]
  },
  {
   "cell_type": "code",
   "execution_count": 27,
   "id": "53c6558a-67a0-496f-b80f-2e17999f31d1",
   "metadata": {
    "tags": []
   },
   "outputs": [
    {
     "name": "stdout",
     "output_type": "stream",
     "text": [
      "\n",
      "  Csv SCAN ../data/titanic.csv\n",
      "  PROJECT */12 COLUMNS\n",
      "  SELECTION: [([(col(\"Pclass\")) == (1)]) & ([(col(\"Age\")) > (70.0)])]\n"
     ]
    }
   ],
   "source": [
    "df = (\n",
    "    pl.scan_csv(csv_file)\n",
    "    .filter(\n",
    "        pl.col('Pclass')==1\n",
    "    )\n",
    "    .filter(\n",
    "        (pl.col('Age') > 70)\n",
    "    )\n",
    ")\n",
    "print(df.explain())"
   ]
  },
  {
   "cell_type": "markdown",
   "id": "a60f326e-173a-4b1c-b359-8dddbd6f440b",
   "metadata": {},
   "source": [
    "In the query plan we see the conditionsa are combined to a single condition by the query optimiser"
   ]
  },
  {
   "cell_type": "markdown",
   "id": "11e79823-df64-4864-b6dc-b6fd9b45279e",
   "metadata": {},
   "source": [
    "## Exercises\n",
    "In the exercises you will develop your understanding of:\n",
    "- applying multiple AND conditions\n",
    "- applying multiple OR conditions"
   ]
  },
  {
   "cell_type": "markdown",
   "id": "f08531e8-1030-42fd-9c55-36bf78faae63",
   "metadata": {},
   "source": [
    "## Solutions\n",
    "### Solution to Exercise 1\n",
    "Create a `DataFrame` where `Age` is between 30 and 50 (including the lower bound) and the passenger is in 2nd class. Do this in eager mode in a single pass through the `DataFrame`"
   ]
  },
  {
   "cell_type": "code",
   "execution_count": 28,
   "id": "80da22aa-ae65-4c10-890d-bee420195c49",
   "metadata": {
    "jupyter": {
     "source_hidden": true
    },
    "tags": []
   },
   "outputs": [
    {
     "data": {
      "text/html": [
       "<div><style>\n",
       ".dataframe > thead > tr,\n",
       ".dataframe > tbody > tr {\n",
       "  text-align: right;\n",
       "  white-space: pre-wrap;\n",
       "}\n",
       "</style>\n",
       "<small>shape: (5, 12)</small><table border=\"1\" class=\"dataframe\"><thead><tr><th>PassengerId</th><th>Survived</th><th>Pclass</th><th>Name</th><th>Sex</th><th>Age</th><th>SibSp</th><th>Parch</th><th>Ticket</th><th>Fare</th><th>Cabin</th><th>Embarked</th></tr><tr><td>i64</td><td>i64</td><td>i64</td><td>str</td><td>str</td><td>f64</td><td>i64</td><td>i64</td><td>str</td><td>f64</td><td>str</td><td>str</td></tr></thead><tbody><tr><td>21</td><td>0</td><td>2</td><td>&quot;Fynney, Mr. Jo…</td><td>&quot;male&quot;</td><td>35.0</td><td>0</td><td>0</td><td>&quot;239865&quot;</td><td>26.0</td><td>null</td><td>&quot;S&quot;</td></tr><tr><td>22</td><td>1</td><td>2</td><td>&quot;Beesley, Mr. L…</td><td>&quot;male&quot;</td><td>34.0</td><td>0</td><td>0</td><td>&quot;248698&quot;</td><td>13.0</td><td>&quot;D56&quot;</td><td>&quot;S&quot;</td></tr><tr><td>71</td><td>0</td><td>2</td><td>&quot;Jenkin, Mr. St…</td><td>&quot;male&quot;</td><td>32.0</td><td>0</td><td>0</td><td>&quot;C.A. 33111&quot;</td><td>10.5</td><td>null</td><td>&quot;S&quot;</td></tr><tr><td>99</td><td>1</td><td>2</td><td>&quot;Doling, Mrs. J…</td><td>&quot;female&quot;</td><td>34.0</td><td>0</td><td>1</td><td>&quot;231919&quot;</td><td>23.0</td><td>null</td><td>&quot;S&quot;</td></tr><tr><td>100</td><td>0</td><td>2</td><td>&quot;Kantor, Mr. Si…</td><td>&quot;male&quot;</td><td>34.0</td><td>1</td><td>0</td><td>&quot;244367&quot;</td><td>26.0</td><td>null</td><td>&quot;S&quot;</td></tr></tbody></table></div>"
      ],
      "text/plain": [
       "shape: (5, 12)\n",
       "┌─────────────┬──────────┬────────┬─────────────────────┬───┬────────────┬──────┬───────┬──────────┐\n",
       "│ PassengerId ┆ Survived ┆ Pclass ┆ Name                ┆ … ┆ Ticket     ┆ Fare ┆ Cabin ┆ Embarked │\n",
       "│ ---         ┆ ---      ┆ ---    ┆ ---                 ┆   ┆ ---        ┆ ---  ┆ ---   ┆ ---      │\n",
       "│ i64         ┆ i64      ┆ i64    ┆ str                 ┆   ┆ str        ┆ f64  ┆ str   ┆ str      │\n",
       "╞═════════════╪══════════╪════════╪═════════════════════╪═══╪════════════╪══════╪═══════╪══════════╡\n",
       "│ 21          ┆ 0        ┆ 2      ┆ Fynney, Mr. Joseph  ┆ … ┆ 239865     ┆ 26.0 ┆ null  ┆ S        │\n",
       "│             ┆          ┆        ┆ J                   ┆   ┆            ┆      ┆       ┆          │\n",
       "│ 22          ┆ 1        ┆ 2      ┆ Beesley, Mr.        ┆ … ┆ 248698     ┆ 13.0 ┆ D56   ┆ S        │\n",
       "│             ┆          ┆        ┆ Lawrence            ┆   ┆            ┆      ┆       ┆          │\n",
       "│ 71          ┆ 0        ┆ 2      ┆ Jenkin, Mr. Stephen ┆ … ┆ C.A. 33111 ┆ 10.5 ┆ null  ┆ S        │\n",
       "│             ┆          ┆        ┆ Curnow              ┆   ┆            ┆      ┆       ┆          │\n",
       "│ 99          ┆ 1        ┆ 2      ┆ Doling, Mrs. John T ┆ … ┆ 231919     ┆ 23.0 ┆ null  ┆ S        │\n",
       "│             ┆          ┆        ┆ (Ada Julia B…       ┆   ┆            ┆      ┆       ┆          │\n",
       "│ 100         ┆ 0        ┆ 2      ┆ Kantor, Mr. Sinai   ┆ … ┆ 244367     ┆ 26.0 ┆ null  ┆ S        │\n",
       "└─────────────┴──────────┴────────┴─────────────────────┴───┴────────────┴──────┴───────┴──────────┘"
      ]
     },
     "execution_count": 28,
     "metadata": {},
     "output_type": "execute_result"
    }
   ],
   "source": [
    "(\n",
    "    pl.read_csv(csv_file)\n",
    "    .filter(\n",
    "        (pl.col('Age').is_between(30,50,closed=\"left\")) & (pl.col('Pclass')==2)\n",
    "    )\n",
    "    .head()\n",
    ")"
   ]
  },
  {
   "cell_type": "markdown",
   "id": "10f51855-bd0a-4f33-a404-40ff04be6923",
   "metadata": {},
   "source": [
    "Do this again combining the range condition with the keyword approach for the 2nd class condition - does the order you pass the conditions matter?"
   ]
  },
  {
   "cell_type": "code",
   "execution_count": 29,
   "id": "280ba7cd-0c67-4767-8199-b15d59beecb6",
   "metadata": {
    "jupyter": {
     "source_hidden": true
    }
   },
   "outputs": [
    {
     "data": {
      "text/html": [
       "<div><style>\n",
       ".dataframe > thead > tr,\n",
       ".dataframe > tbody > tr {\n",
       "  text-align: right;\n",
       "  white-space: pre-wrap;\n",
       "}\n",
       "</style>\n",
       "<small>shape: (5, 12)</small><table border=\"1\" class=\"dataframe\"><thead><tr><th>PassengerId</th><th>Survived</th><th>Pclass</th><th>Name</th><th>Sex</th><th>Age</th><th>SibSp</th><th>Parch</th><th>Ticket</th><th>Fare</th><th>Cabin</th><th>Embarked</th></tr><tr><td>i64</td><td>i64</td><td>i64</td><td>str</td><td>str</td><td>f64</td><td>i64</td><td>i64</td><td>str</td><td>f64</td><td>str</td><td>str</td></tr></thead><tbody><tr><td>21</td><td>0</td><td>2</td><td>&quot;Fynney, Mr. Jo…</td><td>&quot;male&quot;</td><td>35.0</td><td>0</td><td>0</td><td>&quot;239865&quot;</td><td>26.0</td><td>null</td><td>&quot;S&quot;</td></tr><tr><td>22</td><td>1</td><td>2</td><td>&quot;Beesley, Mr. L…</td><td>&quot;male&quot;</td><td>34.0</td><td>0</td><td>0</td><td>&quot;248698&quot;</td><td>13.0</td><td>&quot;D56&quot;</td><td>&quot;S&quot;</td></tr><tr><td>71</td><td>0</td><td>2</td><td>&quot;Jenkin, Mr. St…</td><td>&quot;male&quot;</td><td>32.0</td><td>0</td><td>0</td><td>&quot;C.A. 33111&quot;</td><td>10.5</td><td>null</td><td>&quot;S&quot;</td></tr><tr><td>99</td><td>1</td><td>2</td><td>&quot;Doling, Mrs. J…</td><td>&quot;female&quot;</td><td>34.0</td><td>0</td><td>1</td><td>&quot;231919&quot;</td><td>23.0</td><td>null</td><td>&quot;S&quot;</td></tr><tr><td>100</td><td>0</td><td>2</td><td>&quot;Kantor, Mr. Si…</td><td>&quot;male&quot;</td><td>34.0</td><td>1</td><td>0</td><td>&quot;244367&quot;</td><td>26.0</td><td>null</td><td>&quot;S&quot;</td></tr></tbody></table></div>"
      ],
      "text/plain": [
       "shape: (5, 12)\n",
       "┌─────────────┬──────────┬────────┬─────────────────────┬───┬────────────┬──────┬───────┬──────────┐\n",
       "│ PassengerId ┆ Survived ┆ Pclass ┆ Name                ┆ … ┆ Ticket     ┆ Fare ┆ Cabin ┆ Embarked │\n",
       "│ ---         ┆ ---      ┆ ---    ┆ ---                 ┆   ┆ ---        ┆ ---  ┆ ---   ┆ ---      │\n",
       "│ i64         ┆ i64      ┆ i64    ┆ str                 ┆   ┆ str        ┆ f64  ┆ str   ┆ str      │\n",
       "╞═════════════╪══════════╪════════╪═════════════════════╪═══╪════════════╪══════╪═══════╪══════════╡\n",
       "│ 21          ┆ 0        ┆ 2      ┆ Fynney, Mr. Joseph  ┆ … ┆ 239865     ┆ 26.0 ┆ null  ┆ S        │\n",
       "│             ┆          ┆        ┆ J                   ┆   ┆            ┆      ┆       ┆          │\n",
       "│ 22          ┆ 1        ┆ 2      ┆ Beesley, Mr.        ┆ … ┆ 248698     ┆ 13.0 ┆ D56   ┆ S        │\n",
       "│             ┆          ┆        ┆ Lawrence            ┆   ┆            ┆      ┆       ┆          │\n",
       "│ 71          ┆ 0        ┆ 2      ┆ Jenkin, Mr. Stephen ┆ … ┆ C.A. 33111 ┆ 10.5 ┆ null  ┆ S        │\n",
       "│             ┆          ┆        ┆ Curnow              ┆   ┆            ┆      ┆       ┆          │\n",
       "│ 99          ┆ 1        ┆ 2      ┆ Doling, Mrs. John T ┆ … ┆ 231919     ┆ 23.0 ┆ null  ┆ S        │\n",
       "│             ┆          ┆        ┆ (Ada Julia B…       ┆   ┆            ┆      ┆       ┆          │\n",
       "│ 100         ┆ 0        ┆ 2      ┆ Kantor, Mr. Sinai   ┆ … ┆ 244367     ┆ 26.0 ┆ null  ┆ S        │\n",
       "└─────────────┴──────────┴────────┴─────────────────────┴───┴────────────┴──────┴───────┴──────────┘"
      ]
     },
     "execution_count": 29,
     "metadata": {},
     "output_type": "execute_result"
    }
   ],
   "source": [
    "(\n",
    "    pl.read_csv(csv_file)\n",
    "    .filter(\n",
    "        pl.col('Age').is_between(30,50,closed=\"left\"),\n",
    "        Pclass=2,\n",
    "    )\n",
    "    .head()\n",
    ")"
   ]
  },
  {
   "cell_type": "markdown",
   "id": "3dc2a4dc-47ff-4fb8-98f8-719d4e7b5564",
   "metadata": {},
   "source": [
    "The order you do this matters - Python keyword arguments must be the last on the list"
   ]
  },
  {
   "cell_type": "markdown",
   "id": "6c6dd0d7-7c84-4553-87c4-dd2cbcac579d",
   "metadata": {},
   "source": [
    "### Solution to Exercise 2\n",
    "Return all the rows of the `DataFrame` where at least one column on the row is `null` (excluding the `Cabin` column with many `null` values)"
   ]
  },
  {
   "cell_type": "code",
   "execution_count": 30,
   "id": "f2fb4ec8-4a80-45a9-aa92-2c7f662b5a1f",
   "metadata": {
    "jupyter": {
     "source_hidden": true
    }
   },
   "outputs": [
    {
     "data": {
      "text/html": [
       "<div><style>\n",
       ".dataframe > thead > tr,\n",
       ".dataframe > tbody > tr {\n",
       "  text-align: right;\n",
       "  white-space: pre-wrap;\n",
       "}\n",
       "</style>\n",
       "<small>shape: (5, 11)</small><table border=\"1\" class=\"dataframe\"><thead><tr><th>PassengerId</th><th>Survived</th><th>Pclass</th><th>Name</th><th>Sex</th><th>Age</th><th>SibSp</th><th>Parch</th><th>Ticket</th><th>Fare</th><th>Embarked</th></tr><tr><td>i64</td><td>i64</td><td>i64</td><td>str</td><td>str</td><td>f64</td><td>i64</td><td>i64</td><td>str</td><td>f64</td><td>str</td></tr></thead><tbody><tr><td>6</td><td>0</td><td>3</td><td>&quot;Moran, Mr. Jam…</td><td>&quot;male&quot;</td><td>null</td><td>0</td><td>0</td><td>&quot;330877&quot;</td><td>8.4583</td><td>&quot;Q&quot;</td></tr><tr><td>18</td><td>1</td><td>2</td><td>&quot;Williams, Mr. …</td><td>&quot;male&quot;</td><td>null</td><td>0</td><td>0</td><td>&quot;244373&quot;</td><td>13.0</td><td>&quot;S&quot;</td></tr><tr><td>20</td><td>1</td><td>3</td><td>&quot;Masselmani, Mr…</td><td>&quot;female&quot;</td><td>null</td><td>0</td><td>0</td><td>&quot;2649&quot;</td><td>7.225</td><td>&quot;C&quot;</td></tr><tr><td>27</td><td>0</td><td>3</td><td>&quot;Emir, Mr. Farr…</td><td>&quot;male&quot;</td><td>null</td><td>0</td><td>0</td><td>&quot;2631&quot;</td><td>7.225</td><td>&quot;C&quot;</td></tr><tr><td>29</td><td>1</td><td>3</td><td>&quot;O&#x27;Dwyer, Miss.…</td><td>&quot;female&quot;</td><td>null</td><td>0</td><td>0</td><td>&quot;330959&quot;</td><td>7.8792</td><td>&quot;Q&quot;</td></tr></tbody></table></div>"
      ],
      "text/plain": [
       "shape: (5, 11)\n",
       "┌─────────────┬──────────┬────────┬───────────────────────┬───┬───────┬────────┬────────┬──────────┐\n",
       "│ PassengerId ┆ Survived ┆ Pclass ┆ Name                  ┆ … ┆ Parch ┆ Ticket ┆ Fare   ┆ Embarked │\n",
       "│ ---         ┆ ---      ┆ ---    ┆ ---                   ┆   ┆ ---   ┆ ---    ┆ ---    ┆ ---      │\n",
       "│ i64         ┆ i64      ┆ i64    ┆ str                   ┆   ┆ i64   ┆ str    ┆ f64    ┆ str      │\n",
       "╞═════════════╪══════════╪════════╪═══════════════════════╪═══╪═══════╪════════╪════════╪══════════╡\n",
       "│ 6           ┆ 0        ┆ 3      ┆ Moran, Mr. James      ┆ … ┆ 0     ┆ 330877 ┆ 8.4583 ┆ Q        │\n",
       "│ 18          ┆ 1        ┆ 2      ┆ Williams, Mr. Charles ┆ … ┆ 0     ┆ 244373 ┆ 13.0   ┆ S        │\n",
       "│             ┆          ┆        ┆ Eugene                ┆   ┆       ┆        ┆        ┆          │\n",
       "│ 20          ┆ 1        ┆ 3      ┆ Masselmani, Mrs.      ┆ … ┆ 0     ┆ 2649   ┆ 7.225  ┆ C        │\n",
       "│             ┆          ┆        ┆ Fatima                ┆   ┆       ┆        ┆        ┆          │\n",
       "│ 27          ┆ 0        ┆ 3      ┆ Emir, Mr. Farred      ┆ … ┆ 0     ┆ 2631   ┆ 7.225  ┆ C        │\n",
       "│             ┆          ┆        ┆ Chehab                ┆   ┆       ┆        ┆        ┆          │\n",
       "│ 29          ┆ 1        ┆ 3      ┆ O'Dwyer, Miss. Ellen  ┆ … ┆ 0     ┆ 330959 ┆ 7.8792 ┆ Q        │\n",
       "│             ┆          ┆        ┆ \"Nellie\"              ┆   ┆       ┆        ┆        ┆          │\n",
       "└─────────────┴──────────┴────────┴───────────────────────┴───┴───────┴────────┴────────┴──────────┘"
      ]
     },
     "execution_count": 30,
     "metadata": {},
     "output_type": "execute_result"
    }
   ],
   "source": [
    "(\n",
    "    pl.read_csv(csv_file)\n",
    "    .drop(\"Cabin\")\n",
    "    .filter(\n",
    "        pl.any_horizontal(\n",
    "            pl.all().is_null()\n",
    "        )\n",
    "    )\n",
    "    .head()\n",
    ")"
   ]
  },
  {
   "cell_type": "markdown",
   "id": "d3a021b1-36af-4caf-a7e5-e6e482e7351b",
   "metadata": {},
   "source": [
    "### Solution to Exercise 3\n",
    "Create a `DataFrame` where the passengers got on in Cork (\"C\") or Southampton (\"S\") using the pipe operator"
   ]
  },
  {
   "cell_type": "code",
   "execution_count": 31,
   "id": "a483e251-0b77-4cdd-9e31-16a4e538f9a6",
   "metadata": {
    "tags": []
   },
   "outputs": [
    {
     "data": {
      "text/html": [
       "<div><style>\n",
       ".dataframe > thead > tr,\n",
       ".dataframe > tbody > tr {\n",
       "  text-align: right;\n",
       "  white-space: pre-wrap;\n",
       "}\n",
       "</style>\n",
       "<small>shape: (3, 12)</small><table border=\"1\" class=\"dataframe\"><thead><tr><th>PassengerId</th><th>Survived</th><th>Pclass</th><th>Name</th><th>Sex</th><th>Age</th><th>SibSp</th><th>Parch</th><th>Ticket</th><th>Fare</th><th>Cabin</th><th>Embarked</th></tr><tr><td>i64</td><td>i64</td><td>i64</td><td>str</td><td>str</td><td>f64</td><td>i64</td><td>i64</td><td>str</td><td>f64</td><td>str</td><td>str</td></tr></thead><tbody><tr><td>1</td><td>0</td><td>3</td><td>&quot;Braund, Mr. Ow…</td><td>&quot;male&quot;</td><td>22.0</td><td>1</td><td>0</td><td>&quot;A/5 21171&quot;</td><td>7.25</td><td>null</td><td>&quot;S&quot;</td></tr><tr><td>2</td><td>1</td><td>1</td><td>&quot;Cumings, Mrs. …</td><td>&quot;female&quot;</td><td>38.0</td><td>1</td><td>0</td><td>&quot;PC 17599&quot;</td><td>71.2833</td><td>&quot;C85&quot;</td><td>&quot;C&quot;</td></tr><tr><td>3</td><td>1</td><td>3</td><td>&quot;Heikkinen, Mis…</td><td>&quot;female&quot;</td><td>26.0</td><td>0</td><td>0</td><td>&quot;STON/O2. 31012…</td><td>7.925</td><td>null</td><td>&quot;S&quot;</td></tr></tbody></table></div>"
      ],
      "text/plain": [
       "shape: (3, 12)\n",
       "┌─────────────┬──────────┬────────┬───────────────────┬───┬───────────┬─────────┬───────┬──────────┐\n",
       "│ PassengerId ┆ Survived ┆ Pclass ┆ Name              ┆ … ┆ Ticket    ┆ Fare    ┆ Cabin ┆ Embarked │\n",
       "│ ---         ┆ ---      ┆ ---    ┆ ---               ┆   ┆ ---       ┆ ---     ┆ ---   ┆ ---      │\n",
       "│ i64         ┆ i64      ┆ i64    ┆ str               ┆   ┆ str       ┆ f64     ┆ str   ┆ str      │\n",
       "╞═════════════╪══════════╪════════╪═══════════════════╪═══╪═══════════╪═════════╪═══════╪══════════╡\n",
       "│ 1           ┆ 0        ┆ 3      ┆ Braund, Mr. Owen  ┆ … ┆ A/5 21171 ┆ 7.25    ┆ null  ┆ S        │\n",
       "│             ┆          ┆        ┆ Harris            ┆   ┆           ┆         ┆       ┆          │\n",
       "│ 2           ┆ 1        ┆ 1      ┆ Cumings, Mrs.     ┆ … ┆ PC 17599  ┆ 71.2833 ┆ C85   ┆ C        │\n",
       "│             ┆          ┆        ┆ John Bradley      ┆   ┆           ┆         ┆       ┆          │\n",
       "│             ┆          ┆        ┆ (Flor…            ┆   ┆           ┆         ┆       ┆          │\n",
       "│ 3           ┆ 1        ┆ 3      ┆ Heikkinen, Miss.  ┆ … ┆ STON/O2.  ┆ 7.925   ┆ null  ┆ S        │\n",
       "│             ┆          ┆        ┆ Laina             ┆   ┆ 3101282   ┆         ┆       ┆          │\n",
       "└─────────────┴──────────┴────────┴───────────────────┴───┴───────────┴─────────┴───────┴──────────┘"
      ]
     },
     "execution_count": 31,
     "metadata": {},
     "output_type": "execute_result"
    }
   ],
   "source": [
    "(\n",
    "    pl.read_csv(csv_file)\n",
    "    .filter(\n",
    "        (pl.col('Embarked') == \"C\") | (pl.col('Embarked') == \"S\")\n",
    "    )\n",
    "    .head(3)\n",
    ")"
   ]
  },
  {
   "cell_type": "markdown",
   "id": "e41c0eab-a380-46be-a610-eccc2b2b47b9",
   "metadata": {},
   "source": [
    "Do this again using the `is_in` approach"
   ]
  },
  {
   "cell_type": "code",
   "execution_count": 32,
   "id": "afcb94e2-365f-4e4c-89e0-ed10d3041736",
   "metadata": {},
   "outputs": [
    {
     "data": {
      "text/html": [
       "<div><style>\n",
       ".dataframe > thead > tr,\n",
       ".dataframe > tbody > tr {\n",
       "  text-align: right;\n",
       "  white-space: pre-wrap;\n",
       "}\n",
       "</style>\n",
       "<small>shape: (5, 12)</small><table border=\"1\" class=\"dataframe\"><thead><tr><th>PassengerId</th><th>Survived</th><th>Pclass</th><th>Name</th><th>Sex</th><th>Age</th><th>SibSp</th><th>Parch</th><th>Ticket</th><th>Fare</th><th>Cabin</th><th>Embarked</th></tr><tr><td>i64</td><td>i64</td><td>i64</td><td>str</td><td>str</td><td>f64</td><td>i64</td><td>i64</td><td>str</td><td>f64</td><td>str</td><td>str</td></tr></thead><tbody><tr><td>1</td><td>0</td><td>3</td><td>&quot;Braund, Mr. Ow…</td><td>&quot;male&quot;</td><td>22.0</td><td>1</td><td>0</td><td>&quot;A/5 21171&quot;</td><td>7.25</td><td>null</td><td>&quot;S&quot;</td></tr><tr><td>2</td><td>1</td><td>1</td><td>&quot;Cumings, Mrs. …</td><td>&quot;female&quot;</td><td>38.0</td><td>1</td><td>0</td><td>&quot;PC 17599&quot;</td><td>71.2833</td><td>&quot;C85&quot;</td><td>&quot;C&quot;</td></tr><tr><td>3</td><td>1</td><td>3</td><td>&quot;Heikkinen, Mis…</td><td>&quot;female&quot;</td><td>26.0</td><td>0</td><td>0</td><td>&quot;STON/O2. 31012…</td><td>7.925</td><td>null</td><td>&quot;S&quot;</td></tr><tr><td>4</td><td>1</td><td>1</td><td>&quot;Futrelle, Mrs.…</td><td>&quot;female&quot;</td><td>35.0</td><td>1</td><td>0</td><td>&quot;113803&quot;</td><td>53.1</td><td>&quot;C123&quot;</td><td>&quot;S&quot;</td></tr><tr><td>5</td><td>0</td><td>3</td><td>&quot;Allen, Mr. Wil…</td><td>&quot;male&quot;</td><td>35.0</td><td>0</td><td>0</td><td>&quot;373450&quot;</td><td>8.05</td><td>null</td><td>&quot;S&quot;</td></tr></tbody></table></div>"
      ],
      "text/plain": [
       "shape: (5, 12)\n",
       "┌─────────────┬──────────┬────────┬───────────────────┬───┬───────────┬─────────┬───────┬──────────┐\n",
       "│ PassengerId ┆ Survived ┆ Pclass ┆ Name              ┆ … ┆ Ticket    ┆ Fare    ┆ Cabin ┆ Embarked │\n",
       "│ ---         ┆ ---      ┆ ---    ┆ ---               ┆   ┆ ---       ┆ ---     ┆ ---   ┆ ---      │\n",
       "│ i64         ┆ i64      ┆ i64    ┆ str               ┆   ┆ str       ┆ f64     ┆ str   ┆ str      │\n",
       "╞═════════════╪══════════╪════════╪═══════════════════╪═══╪═══════════╪═════════╪═══════╪══════════╡\n",
       "│ 1           ┆ 0        ┆ 3      ┆ Braund, Mr. Owen  ┆ … ┆ A/5 21171 ┆ 7.25    ┆ null  ┆ S        │\n",
       "│             ┆          ┆        ┆ Harris            ┆   ┆           ┆         ┆       ┆          │\n",
       "│ 2           ┆ 1        ┆ 1      ┆ Cumings, Mrs.     ┆ … ┆ PC 17599  ┆ 71.2833 ┆ C85   ┆ C        │\n",
       "│             ┆          ┆        ┆ John Bradley      ┆   ┆           ┆         ┆       ┆          │\n",
       "│             ┆          ┆        ┆ (Flor…            ┆   ┆           ┆         ┆       ┆          │\n",
       "│ 3           ┆ 1        ┆ 3      ┆ Heikkinen, Miss.  ┆ … ┆ STON/O2.  ┆ 7.925   ┆ null  ┆ S        │\n",
       "│             ┆          ┆        ┆ Laina             ┆   ┆ 3101282   ┆         ┆       ┆          │\n",
       "│ 4           ┆ 1        ┆ 1      ┆ Futrelle, Mrs.    ┆ … ┆ 113803    ┆ 53.1    ┆ C123  ┆ S        │\n",
       "│             ┆          ┆        ┆ Jacques Heath     ┆   ┆           ┆         ┆       ┆          │\n",
       "│             ┆          ┆        ┆ (Li…              ┆   ┆           ┆         ┆       ┆          │\n",
       "│ 5           ┆ 0        ┆ 3      ┆ Allen, Mr.        ┆ … ┆ 373450    ┆ 8.05    ┆ null  ┆ S        │\n",
       "│             ┆          ┆        ┆ William Henry     ┆   ┆           ┆         ┆       ┆          │\n",
       "└─────────────┴──────────┴────────┴───────────────────┴───┴───────────┴─────────┴───────┴──────────┘"
      ]
     },
     "execution_count": 32,
     "metadata": {},
     "output_type": "execute_result"
    }
   ],
   "source": [
    "(\n",
    "    pl.read_csv(csv_file)\n",
    "    .filter(\n",
    "        pl.col('Embarked').is_in([\"C\",\"S\"])\n",
    "    )\n",
    "    .head()\n",
    ")"
   ]
  },
  {
   "cell_type": "markdown",
   "id": "b36fd92f-cbe5-4b85-a446-a4143f255b5c",
   "metadata": {},
   "source": [
    "### Solution to Exercise 4\n",
    "Load the Spotify CSV data into a `DataFrame`"
   ]
  },
  {
   "cell_type": "code",
   "execution_count": 33,
   "id": "eeefcf53-6930-44dc-97ea-2b43616e1d14",
   "metadata": {},
   "outputs": [
    {
     "data": {
      "text/html": [
       "<div><style>\n",
       ".dataframe > thead > tr,\n",
       ".dataframe > tbody > tr {\n",
       "  text-align: right;\n",
       "  white-space: pre-wrap;\n",
       "}\n",
       "</style>\n",
       "<small>shape: (5, 9)</small><table border=\"1\" class=\"dataframe\"><thead><tr><th>title</th><th>rank</th><th>date</th><th>artist</th><th>url</th><th>region</th><th>chart</th><th>trend</th><th>streams</th></tr><tr><td>str</td><td>i64</td><td>str</td><td>str</td><td>str</td><td>str</td><td>str</td><td>str</td><td>i64</td></tr></thead><tbody><tr><td>&quot;Starboy&quot;</td><td>1</td><td>&quot;2017-01-01&quot;</td><td>&quot;The Weeknd, Daft Punk&quot;</td><td>&quot;https://open.spotify.com/trac…</td><td>&quot;Global&quot;</td><td>&quot;top200&quot;</td><td>&quot;SAME_POSITION&quot;</td><td>3135625</td></tr><tr><td>&quot;Closer&quot;</td><td>2</td><td>&quot;2017-01-01&quot;</td><td>&quot;The Chainsmokers, Halsey&quot;</td><td>&quot;https://open.spotify.com/trac…</td><td>&quot;Global&quot;</td><td>&quot;top200&quot;</td><td>&quot;SAME_POSITION&quot;</td><td>3015525</td></tr><tr><td>&quot;Let Me Love You&quot;</td><td>3</td><td>&quot;2017-01-01&quot;</td><td>&quot;DJ Snake, Justin Bieber&quot;</td><td>&quot;https://open.spotify.com/trac…</td><td>&quot;Global&quot;</td><td>&quot;top200&quot;</td><td>&quot;MOVE_UP&quot;</td><td>2545384</td></tr><tr><td>&quot;Rockabye (feat. Sean Paul &amp; A…</td><td>4</td><td>&quot;2017-01-01&quot;</td><td>&quot;Clean Bandit&quot;</td><td>&quot;https://open.spotify.com/trac…</td><td>&quot;Global&quot;</td><td>&quot;top200&quot;</td><td>&quot;MOVE_DOWN&quot;</td><td>2356604</td></tr><tr><td>&quot;One Dance&quot;</td><td>5</td><td>&quot;2017-01-01&quot;</td><td>&quot;Drake, WizKid, Kyla&quot;</td><td>&quot;https://open.spotify.com/trac…</td><td>&quot;Global&quot;</td><td>&quot;top200&quot;</td><td>&quot;SAME_POSITION&quot;</td><td>2259887</td></tr></tbody></table></div>"
      ],
      "text/plain": [
       "shape: (5, 9)\n",
       "┌───────────────┬──────┬────────────┬───────────────┬───┬────────┬────────┬──────────────┬─────────┐\n",
       "│ title         ┆ rank ┆ date       ┆ artist        ┆ … ┆ region ┆ chart  ┆ trend        ┆ streams │\n",
       "│ ---           ┆ ---  ┆ ---        ┆ ---           ┆   ┆ ---    ┆ ---    ┆ ---          ┆ ---     │\n",
       "│ str           ┆ i64  ┆ str        ┆ str           ┆   ┆ str    ┆ str    ┆ str          ┆ i64     │\n",
       "╞═══════════════╪══════╪════════════╪═══════════════╪═══╪════════╪════════╪══════════════╪═════════╡\n",
       "│ Starboy       ┆ 1    ┆ 2017-01-01 ┆ The Weeknd,   ┆ … ┆ Global ┆ top200 ┆ SAME_POSITIO ┆ 3135625 │\n",
       "│               ┆      ┆            ┆ Daft Punk     ┆   ┆        ┆        ┆ N            ┆         │\n",
       "│ Closer        ┆ 2    ┆ 2017-01-01 ┆ The           ┆ … ┆ Global ┆ top200 ┆ SAME_POSITIO ┆ 3015525 │\n",
       "│               ┆      ┆            ┆ Chainsmokers, ┆   ┆        ┆        ┆ N            ┆         │\n",
       "│               ┆      ┆            ┆ Halsey        ┆   ┆        ┆        ┆              ┆         │\n",
       "│ Let Me Love   ┆ 3    ┆ 2017-01-01 ┆ DJ Snake,     ┆ … ┆ Global ┆ top200 ┆ MOVE_UP      ┆ 2545384 │\n",
       "│ You           ┆      ┆            ┆ Justin Bieber ┆   ┆        ┆        ┆              ┆         │\n",
       "│ Rockabye      ┆ 4    ┆ 2017-01-01 ┆ Clean Bandit  ┆ … ┆ Global ┆ top200 ┆ MOVE_DOWN    ┆ 2356604 │\n",
       "│ (feat. Sean   ┆      ┆            ┆               ┆   ┆        ┆        ┆              ┆         │\n",
       "│ Paul & An…    ┆      ┆            ┆               ┆   ┆        ┆        ┆              ┆         │\n",
       "│ One Dance     ┆ 5    ┆ 2017-01-01 ┆ Drake,        ┆ … ┆ Global ┆ top200 ┆ SAME_POSITIO ┆ 2259887 │\n",
       "│               ┆      ┆            ┆ WizKid, Kyla  ┆   ┆        ┆        ┆ N            ┆         │\n",
       "└───────────────┴──────┴────────────┴───────────────┴───┴────────┴────────┴──────────────┴─────────┘"
      ]
     },
     "execution_count": 33,
     "metadata": {},
     "output_type": "execute_result"
    }
   ],
   "source": [
    "pl.Config.set_fmt_str_lengths(30)\n",
    "spotify_csv = \"../data/spotify-charts-2017-2021-global-top200.csv.gz\"\n",
    "spotify_df = pl.read_csv(spotify_csv)\n",
    "spotify_df.head()"
   ]
  },
  {
   "cell_type": "markdown",
   "id": "b2b9059a-4712-4587-8477-73df6581c39e",
   "metadata": {},
   "source": [
    "Find all rows where the number of streams is greater than 10 million and the trend is \"NEW_ENTRY\"  "
   ]
  },
  {
   "cell_type": "code",
   "execution_count": 34,
   "id": "2959fa98-c15e-4199-b7a7-7b3b05692546",
   "metadata": {
    "jupyter": {
     "source_hidden": true
    }
   },
   "outputs": [
    {
     "data": {
      "text/html": [
       "<div><style>\n",
       ".dataframe > thead > tr,\n",
       ".dataframe > tbody > tr {\n",
       "  text-align: right;\n",
       "  white-space: pre-wrap;\n",
       "}\n",
       "</style>\n",
       "<small>shape: (6, 9)</small><table border=\"1\" class=\"dataframe\"><thead><tr><th>title</th><th>rank</th><th>date</th><th>artist</th><th>url</th><th>region</th><th>chart</th><th>trend</th><th>streams</th></tr><tr><td>str</td><td>i64</td><td>str</td><td>str</td><td>str</td><td>str</td><td>str</td><td>str</td><td>i64</td></tr></thead><tbody><tr><td>&quot;I Don&#x27;t Care (with Justin Bie…</td><td>1</td><td>&quot;2019-05-10&quot;</td><td>&quot;Ed Sheeran&quot;</td><td>&quot;https://open.spotify.com/trac…</td><td>&quot;Global&quot;</td><td>&quot;top200&quot;</td><td>&quot;NEW_ENTRY&quot;</td><td>10977389</td></tr><tr><td>&quot;Butter&quot;</td><td>2</td><td>&quot;2021-05-21&quot;</td><td>&quot;BTS&quot;</td><td>&quot;https://open.spotify.com/trac…</td><td>&quot;Global&quot;</td><td>&quot;top200&quot;</td><td>&quot;NEW_ENTRY&quot;</td><td>11042335</td></tr><tr><td>&quot;Girls Want Girls (with Lil Ba…</td><td>1</td><td>&quot;2021-09-03&quot;</td><td>&quot;Drake&quot;</td><td>&quot;https://open.spotify.com/trac…</td><td>&quot;Global&quot;</td><td>&quot;top200&quot;</td><td>&quot;NEW_ENTRY&quot;</td><td>12384750</td></tr><tr><td>&quot;Champagne Poetry&quot;</td><td>2</td><td>&quot;2021-09-03&quot;</td><td>&quot;Drake&quot;</td><td>&quot;https://open.spotify.com/trac…</td><td>&quot;Global&quot;</td><td>&quot;top200&quot;</td><td>&quot;NEW_ENTRY&quot;</td><td>11696783</td></tr><tr><td>&quot;Fair Trade (with Travis Scott…</td><td>3</td><td>&quot;2021-09-03&quot;</td><td>&quot;Drake&quot;</td><td>&quot;https://open.spotify.com/trac…</td><td>&quot;Global&quot;</td><td>&quot;top200&quot;</td><td>&quot;NEW_ENTRY&quot;</td><td>11642541</td></tr><tr><td>&quot;Papi’s Home&quot;</td><td>5</td><td>&quot;2021-09-03&quot;</td><td>&quot;Drake&quot;</td><td>&quot;https://open.spotify.com/trac…</td><td>&quot;Global&quot;</td><td>&quot;top200&quot;</td><td>&quot;NEW_ENTRY&quot;</td><td>10029292</td></tr></tbody></table></div>"
      ],
      "text/plain": [
       "shape: (6, 9)\n",
       "┌────────────────────┬──────┬────────────┬────────────┬───┬────────┬────────┬───────────┬──────────┐\n",
       "│ title              ┆ rank ┆ date       ┆ artist     ┆ … ┆ region ┆ chart  ┆ trend     ┆ streams  │\n",
       "│ ---                ┆ ---  ┆ ---        ┆ ---        ┆   ┆ ---    ┆ ---    ┆ ---       ┆ ---      │\n",
       "│ str                ┆ i64  ┆ str        ┆ str        ┆   ┆ str    ┆ str    ┆ str       ┆ i64      │\n",
       "╞════════════════════╪══════╪════════════╪════════════╪═══╪════════╪════════╪═══════════╪══════════╡\n",
       "│ I Don't Care (with ┆ 1    ┆ 2019-05-10 ┆ Ed Sheeran ┆ … ┆ Global ┆ top200 ┆ NEW_ENTRY ┆ 10977389 │\n",
       "│ Justin Bieb…       ┆      ┆            ┆            ┆   ┆        ┆        ┆           ┆          │\n",
       "│ Butter             ┆ 2    ┆ 2021-05-21 ┆ BTS        ┆ … ┆ Global ┆ top200 ┆ NEW_ENTRY ┆ 11042335 │\n",
       "│ Girls Want Girls   ┆ 1    ┆ 2021-09-03 ┆ Drake      ┆ … ┆ Global ┆ top200 ┆ NEW_ENTRY ┆ 12384750 │\n",
       "│ (with Lil Bab…     ┆      ┆            ┆            ┆   ┆        ┆        ┆           ┆          │\n",
       "│ Champagne Poetry   ┆ 2    ┆ 2021-09-03 ┆ Drake      ┆ … ┆ Global ┆ top200 ┆ NEW_ENTRY ┆ 11696783 │\n",
       "│ Fair Trade (with   ┆ 3    ┆ 2021-09-03 ┆ Drake      ┆ … ┆ Global ┆ top200 ┆ NEW_ENTRY ┆ 11642541 │\n",
       "│ Travis Scott)      ┆      ┆            ┆            ┆   ┆        ┆        ┆           ┆          │\n",
       "│ Papi’s Home        ┆ 5    ┆ 2021-09-03 ┆ Drake      ┆ … ┆ Global ┆ top200 ┆ NEW_ENTRY ┆ 10029292 │\n",
       "└────────────────────┴──────┴────────────┴────────────┴───┴────────┴────────┴───────────┴──────────┘"
      ]
     },
     "execution_count": 34,
     "metadata": {},
     "output_type": "execute_result"
    }
   ],
   "source": [
    "(\n",
    "    spotify_df\n",
    "    .filter(\n",
    "        pl.col(\"streams\")>1e7,\n",
    "        trend = \"NEW_ENTRY\"\n",
    "    )\n",
    ")"
   ]
  },
  {
   "cell_type": "markdown",
   "id": "e15a0462-ca27-4699-b24e-4aa32a265141",
   "metadata": {},
   "source": [
    "Find the rows where the artist is either Drake or Ed Sheeran and the rank is less than (better than) 5"
   ]
  },
  {
   "cell_type": "code",
   "execution_count": 35,
   "id": "7f1358d5-01f8-4b98-9cbc-2bc72b11bf83",
   "metadata": {
    "jupyter": {
     "source_hidden": true
    }
   },
   "outputs": [
    {
     "data": {
      "text/html": [
       "<div><style>\n",
       ".dataframe > thead > tr,\n",
       ".dataframe > tbody > tr {\n",
       "  text-align: right;\n",
       "  white-space: pre-wrap;\n",
       "}\n",
       "</style>\n",
       "<small>shape: (795, 9)</small><table border=\"1\" class=\"dataframe\"><thead><tr><th>title</th><th>rank</th><th>date</th><th>artist</th><th>url</th><th>region</th><th>chart</th><th>trend</th><th>streams</th></tr><tr><td>str</td><td>i64</td><td>str</td><td>str</td><td>str</td><td>str</td><td>str</td><td>str</td><td>i64</td></tr></thead><tbody><tr><td>&quot;God&#x27;s Plan&quot;</td><td>1</td><td>&quot;2018-03-01&quot;</td><td>&quot;Drake&quot;</td><td>&quot;https://open.spotify.com/trac…</td><td>&quot;Global&quot;</td><td>&quot;top200&quot;</td><td>&quot;SAME_POSITION&quot;</td><td>7572795</td></tr><tr><td>&quot;Shape of You&quot;</td><td>1</td><td>&quot;2017-02-01&quot;</td><td>&quot;Ed Sheeran&quot;</td><td>&quot;https://open.spotify.com/trac…</td><td>&quot;Global&quot;</td><td>&quot;top200&quot;</td><td>&quot;SAME_POSITION&quot;</td><td>7549041</td></tr><tr><td>&quot;God&#x27;s Plan&quot;</td><td>1</td><td>&quot;2018-03-02&quot;</td><td>&quot;Drake&quot;</td><td>&quot;https://open.spotify.com/trac…</td><td>&quot;Global&quot;</td><td>&quot;top200&quot;</td><td>&quot;SAME_POSITION&quot;</td><td>7817732</td></tr><tr><td>&quot;Shape of You&quot;</td><td>1</td><td>&quot;2017-02-02&quot;</td><td>&quot;Ed Sheeran&quot;</td><td>&quot;https://open.spotify.com/trac…</td><td>&quot;Global&quot;</td><td>&quot;top200&quot;</td><td>&quot;SAME_POSITION&quot;</td><td>7602214</td></tr><tr><td>&quot;Shape of You&quot;</td><td>1</td><td>&quot;2017-02-03&quot;</td><td>&quot;Ed Sheeran&quot;</td><td>&quot;https://open.spotify.com/trac…</td><td>&quot;Global&quot;</td><td>&quot;top200&quot;</td><td>&quot;SAME_POSITION&quot;</td><td>7881255</td></tr><tr><td>&hellip;</td><td>&hellip;</td><td>&hellip;</td><td>&hellip;</td><td>&hellip;</td><td>&hellip;</td><td>&hellip;</td><td>&hellip;</td><td>&hellip;</td></tr><tr><td>&quot;Shivers&quot;</td><td>4</td><td>&quot;2021-10-30&quot;</td><td>&quot;Ed Sheeran&quot;</td><td>&quot;https://open.spotify.com/trac…</td><td>&quot;Global&quot;</td><td>&quot;top200&quot;</td><td>&quot;SAME_POSITION&quot;</td><td>4995236</td></tr><tr><td>&quot;Shivers&quot;</td><td>4</td><td>&quot;2021-10-31&quot;</td><td>&quot;Ed Sheeran&quot;</td><td>&quot;https://open.spotify.com/trac…</td><td>&quot;Global&quot;</td><td>&quot;top200&quot;</td><td>&quot;SAME_POSITION&quot;</td><td>4195481</td></tr><tr><td>&quot;God&#x27;s Plan&quot;</td><td>1</td><td>&quot;2018-01-29&quot;</td><td>&quot;Drake&quot;</td><td>&quot;https://open.spotify.com/trac…</td><td>&quot;Global&quot;</td><td>&quot;top200&quot;</td><td>&quot;SAME_POSITION&quot;</td><td>7272380</td></tr><tr><td>&quot;God&#x27;s Plan&quot;</td><td>1</td><td>&quot;2018-01-30&quot;</td><td>&quot;Drake&quot;</td><td>&quot;https://open.spotify.com/trac…</td><td>&quot;Global&quot;</td><td>&quot;top200&quot;</td><td>&quot;SAME_POSITION&quot;</td><td>7468471</td></tr><tr><td>&quot;God&#x27;s Plan&quot;</td><td>1</td><td>&quot;2018-01-31&quot;</td><td>&quot;Drake&quot;</td><td>&quot;https://open.spotify.com/trac…</td><td>&quot;Global&quot;</td><td>&quot;top200&quot;</td><td>&quot;SAME_POSITION&quot;</td><td>7341621</td></tr></tbody></table></div>"
      ],
      "text/plain": [
       "shape: (795, 9)\n",
       "┌──────────────┬──────┬────────────┬────────────┬───┬────────┬────────┬───────────────┬─────────┐\n",
       "│ title        ┆ rank ┆ date       ┆ artist     ┆ … ┆ region ┆ chart  ┆ trend         ┆ streams │\n",
       "│ ---          ┆ ---  ┆ ---        ┆ ---        ┆   ┆ ---    ┆ ---    ┆ ---           ┆ ---     │\n",
       "│ str          ┆ i64  ┆ str        ┆ str        ┆   ┆ str    ┆ str    ┆ str           ┆ i64     │\n",
       "╞══════════════╪══════╪════════════╪════════════╪═══╪════════╪════════╪═══════════════╪═════════╡\n",
       "│ God's Plan   ┆ 1    ┆ 2018-03-01 ┆ Drake      ┆ … ┆ Global ┆ top200 ┆ SAME_POSITION ┆ 7572795 │\n",
       "│ Shape of You ┆ 1    ┆ 2017-02-01 ┆ Ed Sheeran ┆ … ┆ Global ┆ top200 ┆ SAME_POSITION ┆ 7549041 │\n",
       "│ God's Plan   ┆ 1    ┆ 2018-03-02 ┆ Drake      ┆ … ┆ Global ┆ top200 ┆ SAME_POSITION ┆ 7817732 │\n",
       "│ Shape of You ┆ 1    ┆ 2017-02-02 ┆ Ed Sheeran ┆ … ┆ Global ┆ top200 ┆ SAME_POSITION ┆ 7602214 │\n",
       "│ Shape of You ┆ 1    ┆ 2017-02-03 ┆ Ed Sheeran ┆ … ┆ Global ┆ top200 ┆ SAME_POSITION ┆ 7881255 │\n",
       "│ …            ┆ …    ┆ …          ┆ …          ┆ … ┆ …      ┆ …      ┆ …             ┆ …       │\n",
       "│ Shivers      ┆ 4    ┆ 2021-10-30 ┆ Ed Sheeran ┆ … ┆ Global ┆ top200 ┆ SAME_POSITION ┆ 4995236 │\n",
       "│ Shivers      ┆ 4    ┆ 2021-10-31 ┆ Ed Sheeran ┆ … ┆ Global ┆ top200 ┆ SAME_POSITION ┆ 4195481 │\n",
       "│ God's Plan   ┆ 1    ┆ 2018-01-29 ┆ Drake      ┆ … ┆ Global ┆ top200 ┆ SAME_POSITION ┆ 7272380 │\n",
       "│ God's Plan   ┆ 1    ┆ 2018-01-30 ┆ Drake      ┆ … ┆ Global ┆ top200 ┆ SAME_POSITION ┆ 7468471 │\n",
       "│ God's Plan   ┆ 1    ┆ 2018-01-31 ┆ Drake      ┆ … ┆ Global ┆ top200 ┆ SAME_POSITION ┆ 7341621 │\n",
       "└──────────────┴──────┴────────────┴────────────┴───┴────────┴────────┴───────────────┴─────────┘"
      ]
     },
     "execution_count": 35,
     "metadata": {},
     "output_type": "execute_result"
    }
   ],
   "source": [
    "(\n",
    "    spotify_df\n",
    "    .filter(\n",
    "        pl.col(\"artist\").is_in([\"Drake\",\"Ed Sheeran\"])\n",
    "    )\n",
    "    .filter(pl.col(\"rank\")<5)\n",
    ")"
   ]
  }
 ],
 "metadata": {
  "kernelspec": {
   "display_name": "Python 3 (ipykernel)",
   "language": "python",
   "name": "python3"
  },
  "language_info": {
   "codemirror_mode": {
    "name": "ipython",
    "version": 3
   },
   "file_extension": ".py",
   "mimetype": "text/x-python",
   "name": "python",
   "nbconvert_exporter": "python",
   "pygments_lexer": "ipython3",
   "version": "3.12.3"
  }
 },
 "nbformat": 4,
 "nbformat_minor": 5
}
